{
  "nbformat": 4,
  "nbformat_minor": 0,
  "metadata": {
    "colab": {
      "name": "iterative beta and theta.ipynb",
      "version": "0.3.2",
      "provenance": [],
      "collapsed_sections": [],
      "include_colab_link": true
    },
    "kernelspec": {
      "name": "python3",
      "display_name": "Python 3"
    },
    "accelerator": "GPU"
  },
  "cells": [
    {
      "cell_type": "markdown",
      "metadata": {
        "id": "view-in-github",
        "colab_type": "text"
      },
      "source": [
        "[View in Colaboratory](https://colab.research.google.com/github/asonabend/Phenotype_prediction/blob/master/iterative_beta_and_theta.ipynb)"
      ]
    },
    {
      "metadata": {
        "id": "HD9M9QXbMILu",
        "colab_type": "code",
        "colab": {}
      },
      "cell_type": "code",
      "source": [
        "\n",
        "# Code to read csv file into colaboratory:\n",
        "#!pip install -U -q PyDrive\n",
        "import tensorflow as tf\n",
        "import numpy as np\n",
        "import pandas as pd\n",
        "from numpy import linalg as LA\n",
        "import matplotlib.pyplot as plt\n",
        "from sklearn import metrics\n"
      ],
      "execution_count": 0,
      "outputs": []
    },
    {
      "metadata": {
        "id": "FQ0pHZB70RJz",
        "colab_type": "code",
        "colab": {}
      },
      "cell_type": "code",
      "source": [
        "!pip install -U -q PyDrive"
      ],
      "execution_count": 0,
      "outputs": []
    },
    {
      "metadata": {
        "id": "bcprFrqwMpTw",
        "colab_type": "code",
        "colab": {
          "base_uri": "https://localhost:8080/",
          "height": 71
        },
        "outputId": "8dd38e93-049a-4235-b2d3-270379670275"
      },
      "cell_type": "code",
      "source": [
        "from pydrive.auth import GoogleAuth\n",
        "from pydrive.drive import GoogleDrive\n",
        "from google.colab import auth\n",
        "from oauth2client.client import GoogleCredentials\n",
        "\n",
        "# 1. Authenticate and create the PyDrive client.\n",
        "auth.authenticate_user()\n",
        "gauth = GoogleAuth()\n",
        "gauth.credentials = GoogleCredentials.get_application_default()\n",
        "drive = GoogleDrive(gauth)\n",
        "\n",
        "#2a. Get the file\n",
        "downloaded = drive.CreateFile({'id':'1fupXX3KJWTbdI7MLPHKbDyEDKAXCzO7a'}) # replace the id with id of file you want to access\n",
        "downloaded.GetContentFile('raprod2.ra.full.csv')  \n",
        "#3a. Read file as panda dataframe\n",
        "dat_pop = pd.read_csv('raprod2.ra.full.csv') \n",
        "\n",
        "#2b. Get the file\n",
        "downloaded = drive.CreateFile({'id':'1Igod8k0utRAqgK4BeEuZqj31JCURQQ5K'}) \n",
        "downloaded.GetContentFile('cui2vec_RAsubset.csv')  \n",
        "#3b. Read file as panda dataframe\n",
        "cui_subset = pd.read_csv('cui2vec_RAsubset.csv') \n",
        "\n",
        "#2c. Get the file\n",
        "downloaded = drive.CreateFile({'id':'1Z8YK2sVwKeA0OsZQV-sMNeFSkAI0zX02'}) \n",
        "downloaded.GetContentFile('C1858558.csv')  \n",
        "#3c. Read file as panda dataframe\n",
        "C1858558 = pd.read_csv('C1858558.csv') \n"
      ],
      "execution_count": 3,
      "outputs": [
        {
          "output_type": "stream",
          "text": [
            "/usr/local/lib/python3.6/dist-packages/IPython/core/interactiveshell.py:2718: DtypeWarning: Columns (2) have mixed types. Specify dtype option on import or set low_memory=False.\n",
            "  interactivity=interactivity, compiler=compiler, result=result)\n"
          ],
          "name": "stderr"
        }
      ]
    },
    {
      "metadata": {
        "id": "60JNkqela7CD",
        "colab_type": "code",
        "colab": {}
      },
      "cell_type": "code",
      "source": [
        "# Clear out old graph\n",
        "tf.reset_default_graph()\n",
        "\n",
        "# Create graph\n",
        "sess = tf.Session()\n"
      ],
      "execution_count": 0,
      "outputs": []
    },
    {
      "metadata": {
        "id": "32R2pIItjnQr",
        "colab_type": "code",
        "colab": {}
      },
      "cell_type": "code",
      "source": [
        "# Convert to matrix and remove unnamed column:\n",
        "np_C1858558 = C1858558.loc[:, ~C1858558.columns.str.contains('^Unnamed')].as_matrix()\n",
        "\n",
        "np_cui_subset = cui_subset.loc[:, ~cui_subset.columns.str.contains('^Unnamed')].as_matrix()\n",
        "\n",
        "# Select top 10 percent:\n",
        "# Calculates cosine similarities:\n",
        "np_cos_sim = ([np_C1858558.dot(np_cui_subset[i,:])/(LA.norm(np_cui_subset[i,:])) for i in range(np_cui_subset.shape[0])]/LA.norm(np_C1858558))\n",
        "np_cos_sim = np_cos_sim/sum(np_cos_sim)\n",
        "close_CUIs = (abs(np_cos_sim) > np.percentile(abs(np_cos_sim),0)).flatten()\n",
        "np_cui_subset = np_cui_subset[close_CUIs,:]\n",
        "\n",
        "# Create tensorflow constants for RA CUI and the CUI matrix\n",
        "tf_C1858558 = tf.constant(np_C1858558,name='RAcui', dtype=tf.float32)\n",
        "tf_cui_subset = tf.constant(np_cui_subset,name='CUIsubset', dtype=tf.float32)"
      ],
      "execution_count": 0,
      "outputs": []
    },
    {
      "metadata": {
        "id": "PGiwdUiTeSfZ",
        "colab_type": "code",
        "colab": {}
      },
      "cell_type": "code",
      "source": [
        "# Calculates cosine similarities:\n",
        "np_cos_sim = ([np_C1858558.dot(np_cui_subset[i,:])/(LA.norm(np_cui_subset[i,:])) for i in range(np_cui_subset.shape[0])]/LA.norm(np_C1858558))\n",
        "np_cos_sim = np_cos_sim/sum(np_cos_sim)\n",
        "\n",
        "# Create tensorflow constants the cosine similarities\n",
        "tf_cos_sim = tf.constant(np_cos_sim,name='cos_sim', dtype=tf.float32)\n"
      ],
      "execution_count": 0,
      "outputs": []
    },
    {
      "metadata": {
        "id": "CZ4InBNG3okz",
        "colab_type": "code",
        "colab": {}
      },
      "cell_type": "code",
      "source": [
        "# X matrix which contains X_ij, the centered count of CUI j in patient's i notes:\n",
        "### First I filter the non-labeled rows then I filter the CUI's not mentioned in the notes\n",
        "counts = dat_pop.loc[dat_pop['label'].isin(['Y','N'])].loc[:,list(cui_subset.iloc[close_CUIs,0])]\n",
        "### Now I center the counts and convert it to matrix\n",
        "X = counts.as_matrix().transpose()# Not centered anymore since I use log instead of x^2 (counts-counts.mean()).as_matrix().transpose()\n",
        "np_X_poly = np.array([[X[cui,:],np.log(X[cui,:]+1),np.sqrt(X[cui,:])] for cui in range(X.shape[0])])#np.array([[np.ones(X.shape[1]),X[cui,:],np.square(X[cui,:])] for cui in range(X.shape[0])])\n",
        "### Now I convert it to a tensorflow constant:\n",
        "tf_X_poly = tf.constant(np_X_poly,name='CUIcounts', dtype=tf.float32)#,shape=np_X_poly.shape\n",
        "# Patients response::\n",
        "y = dat_pop.loc[dat_pop['label'].isin(['Y','N'])].loc[:,'label'].eq('Y').mul(1).as_matrix()\n"
      ],
      "execution_count": 0,
      "outputs": []
    },
    {
      "metadata": {
        "id": "z8nNY-S53gu_",
        "colab_type": "code",
        "colab": {}
      },
      "cell_type": "code",
      "source": [
        "###\n",
        "# Model Parameters\n",
        "###\n",
        "\n",
        "# Declare batch size\n",
        "batch_size = 435\n",
        "\n",
        "# Matrix Dimensions:\n",
        "CUIs_No, CUIs_dim = np_cui_subset.shape\n",
        "seed = 116687\n",
        "patients_No = counts.shape[0]\n",
        "theta_dim = np_X_poly.shape[1]"
      ],
      "execution_count": 0,
      "outputs": []
    },
    {
      "metadata": {
        "id": "y3fu3Boa1P8B",
        "colab_type": "code",
        "colab": {}
      },
      "cell_type": "code",
      "source": [
        "# Cosine sim. weighted CUI-embedding matrix:\n",
        "Vw = tf.multiply(tf_cui_subset,tf_cos_sim)\n",
        "# Turn it into a 3D tensor for multiplications later:\n",
        "Vw = tf.expand_dims(Vw, axis=0)\n",
        "# Replicate the Weighted word-vec matrix for evey patient:\n",
        "Vws = tf.tile(Vw,[patients_No,1,1])\n"
      ],
      "execution_count": 0,
      "outputs": []
    },
    {
      "metadata": {
        "id": "_Hy9Pc10-R40",
        "colab_type": "code",
        "colab": {}
      },
      "cell_type": "code",
      "source": [
        "# Initialize parameters \n",
        "### theta such that f_j(x_ij)=theta0_j+theta1_j*X_ij+theta2_j*(X_ij)^2:\n",
        "theta = tf.Variable(tf.random_normal(shape=[CUIs_No,1,theta_dim]),name='theta')\n",
        "### beta for regression:\n",
        "beta = tf.Variable(tf.random_normal(shape=[CUIs_dim,1]),name='beta')\n",
        "beta0 = tf.Variable(tf.random_normal(shape=[1,1]),name='beta0')\n",
        "# Initialize placeholders\n",
        "z_data = tf.placeholder(shape=[None, CUIs_dim], dtype=tf.float32)\n",
        "y_target = tf.placeholder(shape=[None, 1], dtype=tf.float32)\n",
        "beta_const = tf.placeholder(shape=[CUIs_dim,1], dtype=tf.float32,name='beta_const')\n",
        "beta0_const = tf.placeholder(shape=[1,1], dtype=tf.float32,name='beta0_const')\n",
        "# make results reproducible\n",
        "seed = 13\n",
        "np.random.seed(seed)\n",
        "tf.set_random_seed(seed)\n"
      ],
      "execution_count": 0,
      "outputs": []
    },
    {
      "metadata": {
        "id": "9OzqjweEJMEc",
        "colab_type": "code",
        "colab": {}
      },
      "cell_type": "code",
      "source": [
        "####\n",
        "# Declare model operations\n",
        "####\n",
        "# Calculate f_j(x)=theta0j+theta1j*x_ij+theta2j*x_ij^2 where j is a CUI\n",
        "f_x = tf.transpose(tf.matmul(theta,tf_X_poly)) # tensor dimensions: (patiens_No,1,CUI_No)\n",
        "# Cosine sim. weighted CUI-embedding matrix:\n",
        "# Patient's feature vectors:\n",
        "tf_z = tf.squeeze(tf.matmul(f_x,Vws))\n",
        "model_output_beta = tf.sigmoid(tf.add(tf.matmul(z_data, beta), beta0))\n",
        "model_output_theta = tf.sigmoid(tf.add(tf.matmul(tf_z, beta_const), beta0_const))\n"
      ],
      "execution_count": 0,
      "outputs": []
    },
    {
      "metadata": {
        "id": "cu0FdhFioGQ_",
        "colab_type": "code",
        "colab": {}
      },
      "cell_type": "code",
      "source": [
        "###\n",
        "# Loss Functions\n",
        "###\n",
        "### Loss functions to optimize over beta: ###\n",
        "\n",
        "# Specify 'Ridge' or 'LASSO'\n",
        "#regression_type = 'LASSO'\n",
        "regression_type = 'Ridge'\n",
        "\n",
        "# Select appropriate loss function based on regression type\n",
        "if regression_type == 'LASSO':\n",
        "\n",
        "  lasso_param = tf.constant(0.9)\n",
        "  heavyside_step = tf.truediv(1., tf.add(1., tf.exp(tf.multiply(-50., tf.subtract(beta, lasso_param)))))\n",
        "  regularization_param = tf.multiply(heavyside_step, 99.)\n",
        "  loss_beta = tf.add(tf.reduce_mean(tf.square(y_target - model_output_beta)), regularization_param)\n",
        "\n",
        "elif regression_type == 'Ridge':\n",
        "# Declare the Ridge loss function\n",
        "# Ridge loss = L2_loss + L2 norm of slope\n",
        "  ridge_param = tf.constant(1.)\n",
        "  ridge_loss = tf.reduce_mean(tf.square(beta))\n",
        "  loss_beta = tf.expand_dims(tf.add(tf.reduce_mean(tf.square(y_target - model_output_beta)), tf.multiply(ridge_param, ridge_loss)), 0)\n",
        "  \n",
        "### Loss functions to optimize over theta:###\n",
        "### Do some kind of regularization with theta:\n",
        "  theta_param = tf.constant(1.)\n",
        "  theta_reg_loss = tf.reduce_mean(tf.square(theta))\n",
        "  loss_theta = tf.expand_dims(tf.add(tf.reduce_mean(tf.square(y_target - model_output_theta)), tf.multiply(theta_param, theta_reg_loss)), 0)\n",
        "  #loss_theta = tf.reduce_mean(tf.square(y_target - model_output_theta))\n",
        "\n",
        "### Other metrics ###\n",
        "ACC = tf.metrics.accuracy(labels=y_target,predictions=model_output_theta)\n",
        "AUC = tf.metrics.auc(labels=y_target,predictions=model_output_theta)\n"
      ],
      "execution_count": 0,
      "outputs": []
    },
    {
      "metadata": {
        "id": "GSJC070NnvCh",
        "colab_type": "code",
        "colab": {}
      },
      "cell_type": "code",
      "source": [
        "###\n",
        "# Optimizer\n",
        "###\n",
        "\n",
        "# Declare optimizers\n",
        "my_opt_beta = tf.train.GradientDescentOptimizer(1e-1)\n",
        "train_step_beta = my_opt_beta.minimize(loss_beta)\n",
        "\n",
        "#tf.train.AdamOptimizer(1e-4).minimize(cross_entropy)\n",
        "my_opt_theta = tf.train.GradientDescentOptimizer(1e-1)\n",
        "train_step_theta = my_opt_theta.minimize(loss_theta)\n",
        "\n"
      ],
      "execution_count": 0,
      "outputs": []
    },
    {
      "metadata": {
        "id": "mvMjUFTBz49d",
        "colab_type": "code",
        "colab": {
          "base_uri": "https://localhost:8080/",
          "height": 1377
        },
        "outputId": "7de54db0-a36b-402e-b561-9ae0740a0aa6"
      },
      "cell_type": "code",
      "source": [
        "###\n",
        "# Run regression\n",
        "###\n",
        "\n",
        "# Initialize variables\n",
        "init = tf.group(tf.global_variables_initializer(), tf.local_variables_initializer())\n",
        "sess.run(init)\n",
        "np_Z = sess.run(tf_z)\n",
        "# Training loop\n",
        "loss_vec = []\n",
        "for i in range(1500):\n",
        "    rand_index = np.random.choice(np_Z.shape[0], size=batch_size)\n",
        "    rand_z = np_Z[rand_index,:]\n",
        "    rand_y = np.array([y[rand_index]]).transpose()\n",
        "    sess.run(train_step_beta, feed_dict={z_data: rand_z, y_target: rand_y})\n",
        "    ##\n",
        "    np_beta = sess.run(beta)\n",
        "    np_beta0 = sess.run(beta0)\n",
        "    sess.run(train_step_theta, feed_dict={beta_const: np_beta, beta0_const: np_beta0, y_target: rand_y})\n",
        "    rand_z = sess.run(tf_z)\n",
        "    ##\n",
        "    temp_loss = sess.run(loss_beta, feed_dict={z_data: rand_z, y_target: rand_y})\n",
        "    #temp_loss = sess.run(loss_theta, feed_dict={beta_const: np_beta, beta0_const: np_beta0, y_target: rand_y})\n",
        "    loss_vec.append(temp_loss[0])\n",
        "    if (i+1)%100==0 or i == 0:\n",
        "      y_pred = sess.run(model_output_beta, feed_dict={z_data: rand_z})\n",
        "      print('Step #' + str(i+1) + ' beta = ' + str(sess.run(beta)[0]) + ' beta0 = ' + str(sess.run(beta0)) + ' theta = ' + str(sess.run(theta[0,0])))\n",
        "      print('Loss = ' + str(temp_loss))\n",
        "      print('AUC = ' + str(metrics.roc_auc_score(rand_y, y_pred)))\n",
        "      print('\\n')\n"
      ],
      "execution_count": 114,
      "outputs": [
        {
          "output_type": "stream",
          "text": [
            "Step #1 beta = [-0.33409464] beta0 = [[-0.98962617]] theta = [-0.19515672 -0.13169438  0.49216586]\n",
            "Loss = [1.2434696]\n",
            "AUC = 0.4517038978801003\n",
            "\n",
            "\n",
            "Step #100 beta = [-0.3550696] beta0 = [[-1.1448743]] theta = [-0.19236144 -0.13071954  0.48818147]\n",
            "Loss = [1.1495557]\n",
            "AUC = 0.5253679653679655\n",
            "\n",
            "\n",
            "Step #200 beta = [-0.39318398] beta0 = [[-1.2540529]] theta = [-0.18972895 -0.12986375  0.48403925]\n",
            "Loss = [1.0782461]\n",
            "AUC = 0.5164797825348284\n",
            "\n",
            "\n",
            "Step #300 beta = [-0.5096551] beta0 = [[-1.3085486]] theta = [-0.18737453 -0.12905696  0.4798636 ]\n",
            "Loss = [1.0158594]\n",
            "AUC = 0.4699442787189734\n",
            "\n",
            "\n",
            "Step #400 beta = [-0.8082094] beta0 = [[-1.3822422]] theta = [-0.18577531 -0.12805453  0.47591883]\n",
            "Loss = [0.93253654]\n",
            "AUC = 0.49885179296943993\n",
            "\n",
            "\n",
            "Step #500 beta = [-0.7617962] beta0 = [[-1.542405]] theta = [-0.18415846 -0.1271052   0.4719576 ]\n",
            "Loss = [0.8549942]\n",
            "AUC = 0.5764647157921009\n",
            "\n",
            "\n",
            "Step #600 beta = [-0.71844965] beta0 = [[-1.6447049]] theta = [-0.18232122 -0.12618634  0.46801344]\n",
            "Loss = [0.7963991]\n",
            "AUC = 0.5049976677550476\n",
            "\n",
            "\n",
            "Step #700 beta = [-0.67647076] beta0 = [[-1.7130541]] theta = [-0.1809835  -0.1253011   0.46404725]\n",
            "Loss = [0.72950435]\n",
            "AUC = 0.5756293557104253\n",
            "\n",
            "\n",
            "Step #800 beta = [-0.648241] beta0 = [[-1.755921]] theta = [-0.17988175 -0.12443957  0.46008307]\n",
            "Loss = [0.7122098]\n",
            "AUC = 0.5353656990746609\n",
            "\n",
            "\n",
            "Step #900 beta = [-0.6194208] beta0 = [[-1.7821164]] theta = [-0.17919162 -0.12360527  0.45610917]\n",
            "Loss = [0.6843412]\n",
            "AUC = 0.5047841094894931\n",
            "\n",
            "\n",
            "Step #1000 beta = [-0.59177864] beta0 = [[-1.8018332]] theta = [-0.17848322 -0.12277832  0.4521678 ]\n",
            "Loss = [0.66554916]\n",
            "AUC = 0.4307070707070707\n",
            "\n",
            "\n",
            "Step #1100 beta = [-0.56108785] beta0 = [[-1.8212616]] theta = [-0.1775904  -0.12192994  0.44830003]\n",
            "Loss = [0.61461365]\n",
            "AUC = 0.5321041086144542\n",
            "\n",
            "\n",
            "Step #1200 beta = [-0.54719126] beta0 = [[-1.8312398]] theta = [-0.17687143 -0.12110704  0.4444367 ]\n",
            "Loss = [0.5653897]\n",
            "AUC = 0.4870531400966184\n",
            "\n",
            "\n",
            "Step #1300 beta = [-0.53403926] beta0 = [[-1.8343265]] theta = [-0.1760844  -0.12027146  0.44062877]\n",
            "Loss = [0.5464407]\n",
            "AUC = 0.4380305602716469\n",
            "\n",
            "\n",
            "Step #1400 beta = [-0.5114567] beta0 = [[-1.8468385]] theta = [-0.17523646 -0.11942621  0.4368743 ]\n",
            "Loss = [0.5272794]\n",
            "AUC = 0.5334834483565329\n",
            "\n",
            "\n",
            "Step #1500 beta = [-0.49888802] beta0 = [[-1.8528109]] theta = [-0.17439091 -0.11857948  0.4331612 ]\n",
            "Loss = [0.49967867]\n",
            "AUC = 0.52116822705058\n",
            "\n",
            "\n"
          ],
          "name": "stdout"
        }
      ]
    },
    {
      "metadata": {
        "id": "9qyzsptmz5I9",
        "colab_type": "code",
        "colab": {
          "base_uri": "https://localhost:8080/",
          "height": 376
        },
        "outputId": "fc016333-0826-4aea-bb6c-dda3b0a3921e"
      },
      "cell_type": "code",
      "source": [
        "###\n",
        "# Extract regression results\n",
        "###\n",
        "\n",
        "# Plot loss over time\n",
        "plt.plot(loss_vec, 'k-')#[1000:len(loss_vec)]\n",
        "plt.title('regression_type' + ' Loss per Generation')\n",
        "plt.xlabel('Generation')\n",
        "plt.ylabel('Loss')\n",
        "plt.show()"
      ],
      "execution_count": 115,
      "outputs": [
        {
          "output_type": "display_data",
          "data": {
            "image/png": "[encoded data removed]",
            "text/plain": [
              "<matplotlib.figure.Figure at 0x7fc069623518>"
            ]
          },
          "metadata": {
            "tags": []
          }
        }
      ]
    },
    {
      "metadata": {
        "id": "GMTBXb_56sCb",
        "colab_type": "code",
        "colab": {
          "base_uri": "https://localhost:8080/",
          "height": 34
        },
        "outputId": "3906a54b-9465-4ea3-9291-de795b2e5d5c"
      },
      "cell_type": "code",
      "source": [
        "ACC = sess.run(ACC,feed_dict={beta_const: np_beta, beta0_const: np_beta0, y_target: rand_y})\n",
        "ACC"
      ],
      "execution_count": 226,
      "outputs": [
        {
          "output_type": "execute_result",
          "data": {
            "text/plain": [
              "(0.0, 0.07816092)"
            ]
          },
          "metadata": {
            "tags": []
          },
          "execution_count": 226
        }
      ]
    },
    {
      "metadata": {
        "id": "apcFd3RqCaiG",
        "colab_type": "code",
        "colab": {
          "base_uri": "https://localhost:8080/",
          "height": 34
        },
        "outputId": "47c5bd52-18ac-423f-9305-a03f0f9ff896"
      },
      "cell_type": "code",
      "source": [
        "y_pred = sess.run(model_output_theta, feed_dict={beta_const: np_beta, beta0_const: np_beta0})\n",
        "metrics.roc_auc_score(rand_y, y_pred)"
      ],
      "execution_count": 43,
      "outputs": [
        {
          "output_type": "execute_result",
          "data": {
            "text/plain": [
              "0.4503450695987835"
            ]
          },
          "metadata": {
            "tags": []
          },
          "execution_count": 43
        }
      ]
    },
    {
      "metadata": {
        "id": "1Qj9RAtYhIcI",
        "colab_type": "code",
        "colab": {
          "base_uri": "https://localhost:8080/",
          "height": 436
        },
        "outputId": "6d8256e1-8ad2-4f5b-ad1b-20473279f897"
      },
      "cell_type": "code",
      "source": [
        "init = tf.group(tf.global_variables_initializer(), tf.local_variables_initializer())\n",
        "sess.run(init)\n",
        "\n"
      ],
      "execution_count": 265,
      "outputs": [
        {
          "output_type": "error",
          "ename": "RuntimeError",
          "evalue": "ignored",
          "traceback": [
            "\u001b[0;31m---------------------------------------------------------------------------\u001b[0m",
            "\u001b[0;31mRuntimeError\u001b[0m                              Traceback (most recent call last)",
            "\u001b[0;32m<ipython-input-265-cb7075570a70>\u001b[0m in \u001b[0;36m<module>\u001b[0;34m()\u001b[0m\n\u001b[1;32m      1\u001b[0m \u001b[0minit\u001b[0m \u001b[0;34m=\u001b[0m \u001b[0mtf\u001b[0m\u001b[0;34m.\u001b[0m\u001b[0mgroup\u001b[0m\u001b[0;34m(\u001b[0m\u001b[0mtf\u001b[0m\u001b[0;34m.\u001b[0m\u001b[0mglobal_variables_initializer\u001b[0m\u001b[0;34m(\u001b[0m\u001b[0;34m)\u001b[0m\u001b[0;34m,\u001b[0m \u001b[0mtf\u001b[0m\u001b[0;34m.\u001b[0m\u001b[0mlocal_variables_initializer\u001b[0m\u001b[0;34m(\u001b[0m\u001b[0;34m)\u001b[0m\u001b[0;34m)\u001b[0m\u001b[0;34m\u001b[0m\u001b[0m\n\u001b[0;32m----> 2\u001b[0;31m \u001b[0msess\u001b[0m\u001b[0;34m.\u001b[0m\u001b[0mrun\u001b[0m\u001b[0;34m(\u001b[0m\u001b[0minit\u001b[0m\u001b[0;34m)\u001b[0m\u001b[0;34m\u001b[0m\u001b[0m\n\u001b[0m\u001b[1;32m      3\u001b[0m \u001b[0;34m\u001b[0m\u001b[0m\n",
            "\u001b[0;32m/usr/local/lib/python3.6/dist-packages/tensorflow/python/client/session.py\u001b[0m in \u001b[0;36mrun\u001b[0;34m(self, fetches, feed_dict, options, run_metadata)\u001b[0m\n\u001b[1;32m    898\u001b[0m     \u001b[0;32mtry\u001b[0m\u001b[0;34m:\u001b[0m\u001b[0;34m\u001b[0m\u001b[0m\n\u001b[1;32m    899\u001b[0m       result = self._run(None, fetches, feed_dict, options_ptr,\n\u001b[0;32m--> 900\u001b[0;31m                          run_metadata_ptr)\n\u001b[0m\u001b[1;32m    901\u001b[0m       \u001b[0;32mif\u001b[0m \u001b[0mrun_metadata\u001b[0m\u001b[0;34m:\u001b[0m\u001b[0;34m\u001b[0m\u001b[0m\n\u001b[1;32m    902\u001b[0m         \u001b[0mproto_data\u001b[0m \u001b[0;34m=\u001b[0m \u001b[0mtf_session\u001b[0m\u001b[0;34m.\u001b[0m\u001b[0mTF_GetBuffer\u001b[0m\u001b[0;34m(\u001b[0m\u001b[0mrun_metadata_ptr\u001b[0m\u001b[0;34m)\u001b[0m\u001b[0;34m\u001b[0m\u001b[0m\n",
            "\u001b[0;32m/usr/local/lib/python3.6/dist-packages/tensorflow/python/client/session.py\u001b[0m in \u001b[0;36m_run\u001b[0;34m(self, handle, fetches, feed_dict, options, run_metadata)\u001b[0m\n\u001b[1;32m   1056\u001b[0m     \u001b[0;31m# Check session.\u001b[0m\u001b[0;34m\u001b[0m\u001b[0;34m\u001b[0m\u001b[0m\n\u001b[1;32m   1057\u001b[0m     \u001b[0;32mif\u001b[0m \u001b[0mself\u001b[0m\u001b[0;34m.\u001b[0m\u001b[0m_closed\u001b[0m\u001b[0;34m:\u001b[0m\u001b[0;34m\u001b[0m\u001b[0m\n\u001b[0;32m-> 1058\u001b[0;31m       \u001b[0;32mraise\u001b[0m \u001b[0mRuntimeError\u001b[0m\u001b[0;34m(\u001b[0m\u001b[0;34m'Attempted to use a closed Session.'\u001b[0m\u001b[0;34m)\u001b[0m\u001b[0;34m\u001b[0m\u001b[0m\n\u001b[0m\u001b[1;32m   1059\u001b[0m     \u001b[0;32mif\u001b[0m \u001b[0mself\u001b[0m\u001b[0;34m.\u001b[0m\u001b[0mgraph\u001b[0m\u001b[0;34m.\u001b[0m\u001b[0mversion\u001b[0m \u001b[0;34m==\u001b[0m \u001b[0;36m0\u001b[0m\u001b[0;34m:\u001b[0m\u001b[0;34m\u001b[0m\u001b[0m\n\u001b[1;32m   1060\u001b[0m       raise RuntimeError('The Session graph is empty.  Add operations to the '\n",
            "\u001b[0;31mRuntimeError\u001b[0m: Attempted to use a closed Session."
          ]
        }
      ]
    },
    {
      "metadata": {
        "id": "qqIId2esOOsZ",
        "colab_type": "code",
        "colab": {
          "base_uri": "https://localhost:8080/",
          "height": 51
        },
        "outputId": "66677ddf-b666-4dfa-d64b-0559fc5312ee"
      },
      "cell_type": "code",
      "source": [
        "y_true = np.array([0, 0, 1, 1])\n",
        "y_scores = np.array([0.1, 0.4, 0.35, 0.8])\n",
        "\n",
        "\n",
        "import tensorflow as tf\n",
        "auc, update_op = tf.metrics.auc(y_true, y_scores)\n",
        "acc, update_ops = tf.metrics.accuracy(y_true, y_scores)\n",
        "with tf.Session() as sess:\n",
        "    sess.run(tf.local_variables_initializer())\n",
        "    print(\"tf auc: {}\".format(sess.run([auc])))\n",
        "    print(\"tf acc: {}\".format(sess.run([acc])))"
      ],
      "execution_count": 276,
      "outputs": [
        {
          "output_type": "stream",
          "text": [
            "tf auc: [0.0]\n",
            "tf acc: [0.0]\n"
          ],
          "name": "stdout"
        }
      ]
    },
    {
      "metadata": {
        "id": "nWHMLf89P2Dz",
        "colab_type": "code",
        "colab": {}
      },
      "cell_type": "code",
      "source": [
        ""
      ],
      "execution_count": 0,
      "outputs": []
    }
  ]
}