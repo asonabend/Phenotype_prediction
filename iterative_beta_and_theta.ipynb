{
  "nbformat": 4,
  "nbformat_minor": 0,
  "metadata": {
    "colab": {
      "name": "iterative beta and theta.ipynb",
      "version": "0.3.2",
      "provenance": [],
      "collapsed_sections": [],
      "include_colab_link": true
    },
    "kernelspec": {
      "name": "python3",
      "display_name": "Python 3"
    },
    "accelerator": "GPU"
  },
  "cells": [
    {
      "cell_type": "markdown",
      "metadata": {
        "id": "view-in-github",
        "colab_type": "text"
      },
      "source": [
        "[View in Colaboratory](https://colab.research.google.com/github/asonabend/Phenotype_prediction/blob/master/iterative_beta_and_theta.ipynb)"
      ]
    },
    {
      "metadata": {
        "id": "HD9M9QXbMILu",
        "colab_type": "code",
        "colab": {}
      },
      "cell_type": "code",
      "source": [
        "\n",
        "# Code to read csv file into colaboratory:\n",
        "#!pip install -U -q PyDrive\n",
        "import tensorflow as tf\n",
        "import numpy as np\n",
        "import pandas as pd\n",
        "from numpy import linalg as LA\n",
        "import matplotlib.pyplot as plt\n",
        "from sklearn import metrics\n"
      ],
      "execution_count": 0,
      "outputs": []
    },
    {
      "metadata": {
        "id": "FQ0pHZB70RJz",
        "colab_type": "code",
        "colab": {}
      },
      "cell_type": "code",
      "source": [
        "!pip install -U -q PyDrive"
      ],
      "execution_count": 0,
      "outputs": []
    },
    {
      "metadata": {
        "id": "bcprFrqwMpTw",
        "colab_type": "code",
        "colab": {
          "base_uri": "https://localhost:8080/",
          "height": 71
        },
        "outputId": "513cdfdd-fac1-42cf-f88a-0c72da49875a"
      },
      "cell_type": "code",
      "source": [
        "from pydrive.auth import GoogleAuth\n",
        "from pydrive.drive import GoogleDrive\n",
        "from google.colab import auth\n",
        "from oauth2client.client import GoogleCredentials\n",
        "\n",
        "# 1. Authenticate and create the PyDrive client.\n",
        "auth.authenticate_user()\n",
        "gauth = GoogleAuth()\n",
        "gauth.credentials = GoogleCredentials.get_application_default()\n",
        "drive = GoogleDrive(gauth)\n",
        "\n",
        "#2a. Get the file\n",
        "downloaded = drive.CreateFile({'id':'1fupXX3KJWTbdI7MLPHKbDyEDKAXCzO7a'}) # replace the id with id of file you want to access\n",
        "downloaded.GetContentFile('raprod2.ra.full.csv')  \n",
        "#3a. Read file as panda dataframe\n",
        "dat_pop = pd.read_csv('raprod2.ra.full.csv') \n",
        "\n",
        "#2b. Get the file\n",
        "downloaded = drive.CreateFile({'id':'1Igod8k0utRAqgK4BeEuZqj31JCURQQ5K'}) \n",
        "downloaded.GetContentFile('cui2vec_RAsubset.csv')  \n",
        "#3b. Read file as panda dataframe\n",
        "cui_subset = pd.read_csv('cui2vec_RAsubset.csv') \n",
        "\n",
        "#2c. Get the file\n",
        "downloaded = drive.CreateFile({'id':'1Z8YK2sVwKeA0OsZQV-sMNeFSkAI0zX02'}) \n",
        "downloaded.GetContentFile('C1858558.csv')  \n",
        "#3c. Read file as panda dataframe\n",
        "C1858558 = pd.read_csv('C1858558.csv') \n"
      ],
      "execution_count": 117,
      "outputs": [
        {
          "output_type": "stream",
          "text": [
            "/usr/local/lib/python3.6/dist-packages/IPython/core/interactiveshell.py:2718: DtypeWarning: Columns (2) have mixed types. Specify dtype option on import or set low_memory=False.\n",
            "  interactivity=interactivity, compiler=compiler, result=result)\n"
          ],
          "name": "stderr"
        }
      ]
    },
    {
      "metadata": {
        "id": "60JNkqela7CD",
        "colab_type": "code",
        "colab": {}
      },
      "cell_type": "code",
      "source": [
        "# Clear out old graph\n",
        "tf.reset_default_graph()\n",
        "\n",
        "# Create graph\n",
        "sess = tf.Session()\n"
      ],
      "execution_count": 0,
      "outputs": []
    },
    {
      "metadata": {
        "id": "32R2pIItjnQr",
        "colab_type": "code",
        "colab": {}
      },
      "cell_type": "code",
      "source": [
        "# Convert to matrix and remove unnamed column:\n",
        "np_C1858558 = C1858558.loc[:, ~C1858558.columns.str.contains('^Unnamed')].as_matrix()\n",
        "\n",
        "np_cui_subset = cui_subset.loc[:, ~cui_subset.columns.str.contains('^Unnamed')].as_matrix()\n",
        "\n",
        "# Select top 10 percent:\n",
        "# Calculates cosine similarities:\n",
        "np_cos_sim = ([np_C1858558.dot(np_cui_subset[i,:])/(LA.norm(np_cui_subset[i,:])) for i in range(np_cui_subset.shape[0])]/LA.norm(np_C1858558))/sum(np_cos_sim)\n",
        "close_CUIs = (abs(np_cos_sim) > np.percentile(abs(np_cos_sim),90)).flatten()\n",
        "np_cui_subset = np_cui_subset[close_CUIs,:]\n",
        "\n",
        "# Create tensorflow constants for RA CUI and the CUI matrix\n",
        "tf_C1858558 = tf.constant(np_C1858558,name='RAcui', dtype=tf.float32)\n",
        "tf_cui_subset = tf.constant(np_cui_subset,name='CUIsubset', dtype=tf.float32)"
      ],
      "execution_count": 0,
      "outputs": []
    },
    {
      "metadata": {
        "id": "PGiwdUiTeSfZ",
        "colab_type": "code",
        "colab": {}
      },
      "cell_type": "code",
      "source": [
        "# Calculates cosine similarities:\n",
        "np_cos_sim = ([np_C1858558.dot(np_cui_subset[i,:])/(LA.norm(np_cui_subset[i,:])) for i in range(np_cui_subset.shape[0])]/LA.norm(np_C1858558))/sum(np_cos_sim)\n",
        "\n",
        "# Create tensorflow constants the cosine similarities\n",
        "tf_cos_sim = tf.constant(np_cos_sim,name='cos_sim', dtype=tf.float32)\n"
      ],
      "execution_count": 0,
      "outputs": []
    },
    {
      "metadata": {
        "id": "CZ4InBNG3okz",
        "colab_type": "code",
        "colab": {}
      },
      "cell_type": "code",
      "source": [
        "# X matrix which contains X_ij, the centered count of CUI j in patient's i notes:\n",
        "### First I filter the non-labeled rows then I filter the CUI's not mentioned in the notes\n",
        "counts = dat_pop.loc[dat_pop['label'].isin(['Y','N'])].loc[:,list(cui_subset.iloc[close_CUIs,0])]\n",
        "### Now I center the counts and convert it to matrix\n",
        "X = (counts-counts.mean()).as_matrix().transpose()\n",
        "np_X_poly = np.array([[X[cui,:],np.square(X[cui,:])] for cui in range(X.shape[0])])#np.array([[np.ones(X.shape[1]),X[cui,:],np.square(X[cui,:])] for cui in range(X.shape[0])])\n",
        "### Now I convert it to a tensorflow constant:\n",
        "tf_X_poly = tf.constant(np_X_poly,name='CUIcounts', dtype=tf.float32)#,shape=np_X_poly.shape\n",
        "# Patients response::\n",
        "y = dat_pop.loc[dat_pop['label'].isin(['Y','N'])].loc[:,'label'].eq('Y').mul(1).as_matrix()\n"
      ],
      "execution_count": 0,
      "outputs": []
    },
    {
      "metadata": {
        "id": "z8nNY-S53gu_",
        "colab_type": "code",
        "colab": {}
      },
      "cell_type": "code",
      "source": [
        "###\n",
        "# Model Parameters\n",
        "###\n",
        "\n",
        "# Declare batch size\n",
        "batch_size = 435\n",
        "\n",
        "# Matrix Dimensions:\n",
        "CUIs_No, CUIs_dim = np_cui_subset.shape\n",
        "seed = 116687\n",
        "patients_No = counts.shape[0]\n",
        "theta_dim = 2\n"
      ],
      "execution_count": 0,
      "outputs": []
    },
    {
      "metadata": {
        "id": "y3fu3Boa1P8B",
        "colab_type": "code",
        "colab": {}
      },
      "cell_type": "code",
      "source": [
        "# Cosine sim. weighted CUI-embedding matrix:\n",
        "Vw = tf.multiply(tf_cui_subset,tf_cos_sim)\n",
        "# Turn it into a 3D tensor for multiplications later:\n",
        "Vw = tf.expand_dims(Vw, axis=0)\n",
        "# Replicate the Weighted word-vec matrix for evey patient:\n",
        "Vws = tf.tile(Vw,[patients_No,1,1])\n"
      ],
      "execution_count": 0,
      "outputs": []
    },
    {
      "metadata": {
        "id": "_Hy9Pc10-R40",
        "colab_type": "code",
        "colab": {}
      },
      "cell_type": "code",
      "source": [
        "# Initialize parameters \n",
        "### theta such that f_j(x_ij)=theta0_j+theta1_j*X_ij+theta2_j*(X_ij)^2:\n",
        "theta = tf.Variable(tf.random_normal(shape=[CUIs_No,1,theta_dim]),name='theta')\n",
        "### beta for regression:\n",
        "beta = tf.Variable(tf.random_normal(shape=[CUIs_dim,1]),name='beta')\n",
        "beta0 = tf.Variable(tf.random_normal(shape=[1,1]),name='beta0')\n",
        "# Initialize placeholders\n",
        "z_data = tf.placeholder(shape=[None, CUIs_dim], dtype=tf.float32)\n",
        "y_target = tf.placeholder(shape=[None, 1], dtype=tf.float32)\n",
        "beta_const = tf.placeholder(shape=[CUIs_dim,1], dtype=tf.float32,name='beta_const')\n",
        "beta0_const = tf.placeholder(shape=[1,1], dtype=tf.float32,name='beta0_const')\n",
        "# make results reproducible\n",
        "seed = 13\n",
        "np.random.seed(seed)\n",
        "tf.set_random_seed(seed)\n"
      ],
      "execution_count": 0,
      "outputs": []
    },
    {
      "metadata": {
        "id": "9OzqjweEJMEc",
        "colab_type": "code",
        "colab": {}
      },
      "cell_type": "code",
      "source": [
        "####\n",
        "# Declare model operations\n",
        "####\n",
        "# Calculate f_j(x)=theta0j+theta1j*x_ij+theta2j*x_ij^2 where j is a CUI\n",
        "f_x = tf.transpose(tf.matmul(theta,tf_X_poly)) # tensor dimensions: (patiens_No,1,CUI_No)\n",
        "# Cosine sim. weighted CUI-embedding matrix:\n",
        "# Patient's feature vectors:\n",
        "tf_z = tf.squeeze(tf.matmul(f_x,Vws))\n",
        "model_output_beta = tf.sigmoid(tf.add(tf.matmul(z_data, beta), beta0))\n",
        "model_output_theta = tf.sigmoid(tf.add(tf.matmul(tf_z, beta_const), beta0_const))\n"
      ],
      "execution_count": 0,
      "outputs": []
    },
    {
      "metadata": {
        "id": "cu0FdhFioGQ_",
        "colab_type": "code",
        "colab": {}
      },
      "cell_type": "code",
      "source": [
        "###\n",
        "# Loss Functions\n",
        "###\n",
        "### Loss functions to optimize over beta: ###\n",
        "\n",
        "# Specify 'Ridge' or 'LASSO'\n",
        "#regression_type = 'LASSO'\n",
        "regression_type = 'Ridge'\n",
        "\n",
        "# Select appropriate loss function based on regression type\n",
        "if regression_type == 'LASSO':\n",
        "\n",
        "  lasso_param = tf.constant(0.9)\n",
        "  heavyside_step = tf.truediv(1., tf.add(1., tf.exp(tf.multiply(-50., tf.subtract(beta, lasso_param)))))\n",
        "  regularization_param = tf.multiply(heavyside_step, 99.)\n",
        "  loss_beta = tf.add(tf.reduce_mean(tf.square(y_target - model_output_beta)), regularization_param)\n",
        "\n",
        "elif regression_type == 'Ridge':\n",
        "# Declare the Ridge loss function\n",
        "# Ridge loss = L2_loss + L2 norm of slope\n",
        "  ridge_param = tf.constant(1.)\n",
        "  ridge_loss = tf.reduce_mean(tf.square(beta))\n",
        "  loss_beta = tf.expand_dims(tf.add(tf.reduce_mean(tf.square(y_target - model_output_beta)), tf.multiply(ridge_param, ridge_loss)), 0)\n",
        "  \n",
        "### Loss functions to optimize over theta:###\n",
        "### Do some kind of regularization with theta:\n",
        "  theta_param = tf.constant(.5)\n",
        "  theta_reg_loss = tf.reduce_mean(tf.square(theta))\n",
        "  loss_theta = tf.expand_dims(tf.add(tf.reduce_mean(tf.square(y_target - model_output_theta)), tf.multiply(theta_param, theta_reg_loss)), 0)\n",
        "  #loss_theta = tf.reduce_mean(tf.square(y_target - model_output_theta))\n",
        "\n",
        "### Other metrics ###\n",
        "ACC = tf.metrics.accuracy(labels=y_target,predictions=model_output_theta)\n",
        "AUC = tf.metrics.auc(labels=y_target,predictions=model_output_theta)\n"
      ],
      "execution_count": 0,
      "outputs": []
    },
    {
      "metadata": {
        "id": "GSJC070NnvCh",
        "colab_type": "code",
        "colab": {}
      },
      "cell_type": "code",
      "source": [
        "###\n",
        "# Optimizer\n",
        "###\n",
        "\n",
        "# Declare optimizers\n",
        "my_opt_beta = tf.train.GradientDescentOptimizer(1e-1)\n",
        "train_step_beta = my_opt_beta.minimize(loss_beta)\n",
        "\n",
        "#tf.train.AdamOptimizer(1e-4).minimize(cross_entropy)\n",
        "my_opt_theta = tf.train.GradientDescentOptimizer(1e-1)\n",
        "train_step_theta = my_opt_theta.minimize(loss_theta)\n",
        "\n"
      ],
      "execution_count": 0,
      "outputs": []
    },
    {
      "metadata": {
        "id": "mvMjUFTBz49d",
        "colab_type": "code",
        "colab": {
          "base_uri": "https://localhost:8080/",
          "height": 1802
        },
        "outputId": "b0a54746-29ec-49dd-cffd-0fe3f37a273c"
      },
      "cell_type": "code",
      "source": [
        "###\n",
        "# Run regression\n",
        "###\n",
        "\n",
        "# Initialize variables\n",
        "init = tf.group(tf.global_variables_initializer(), tf.local_variables_initializer())\n",
        "sess.run(init)\n",
        "np_Z = sess.run(tf_z)\n",
        "# Training loop\n",
        "loss_vec = []\n",
        "for i in range(10000):\n",
        "    rand_index = np.random.choice(np_Z.shape[0], size=batch_size)\n",
        "    rand_z = np_Z[rand_index,:]\n",
        "    rand_y = np.array([y[rand_index]]).transpose()\n",
        "    #sess.run(train_step_beta, feed_dict={z_data: rand_z, y_target: rand_y})\n",
        "    ##\n",
        "    np_beta = sess.run(beta)\n",
        "    np_beta0 = sess.run(beta0)\n",
        "    sess.run(train_step_theta, feed_dict={beta_const: np_beta, beta0_const: np_beta0, y_target: rand_y})\n",
        "    rand_z = sess.run(tf_z)\n",
        "    ##\n",
        "    #temp_loss = sess.run(loss_beta, feed_dict={z_data: rand_z, y_target: rand_y})\n",
        "    temp_loss = sess.run(loss_theta, feed_dict={beta_const: np_beta, beta0_const: np_beta0, y_target: rand_y})\n",
        "    loss_vec.append(temp_loss[0])\n",
        "    if (i+1)%500==0 or i == 0:\n",
        "      y_pred = sess.run(model_output_beta, feed_dict={z_data: rand_z})\n",
        "      print('Step #' + str(i+1) + ' beta = ' + str(sess.run(beta)[0]) + ' beta0 = ' + str(sess.run(beta0)) + ' theta = ' + str(sess.run(theta[0,0])))\n",
        "      print('Loss = ' + str(temp_loss))\n",
        "      #y_pred = sess.run(model_output_beta, feed_dict={z_data: rand_z})\n",
        "      print('AUC = ' + str(metrics.roc_auc_score(rand_y, y_pred)))\n",
        "      print('\\n')\n"
      ],
      "execution_count": 339,
      "outputs": [
        {
          "output_type": "stream",
          "text": [
            "Step #1 beta = [-2.0335467] beta0 = [[0.11911475]] theta = [-1.3962473  1.0326346]\n",
            "Loss = [0.64275855]\n",
            "AUC = 0.5155705321868465\n",
            "\n",
            "\n",
            "Step #500 beta = [-2.0335467] beta0 = [[0.11911475]] theta = [-1.0310585   0.81341964]\n",
            "Loss = [0.40866]\n",
            "AUC = 0.45944131516898085\n",
            "\n",
            "\n",
            "Step #1000 beta = [-2.0335467] beta0 = [[0.11911475]] theta = [-0.7611541  0.6634382]\n",
            "Loss = [0.32733047]\n",
            "AUC = 0.4497620003440959\n",
            "\n",
            "\n",
            "Step #1500 beta = [-2.0335467] beta0 = [[0.11911475]] theta = [-0.56276923  0.5789733 ]\n",
            "Loss = [0.25265855]\n",
            "AUC = 0.5066008599285412\n",
            "\n",
            "\n",
            "Step #2000 beta = [-2.0335467] beta0 = [[0.11911475]] theta = [-0.41680494  0.5405419 ]\n",
            "Loss = [0.25791174]\n",
            "AUC = 0.4358091490408264\n",
            "\n",
            "\n",
            "Step #2500 beta = [-2.0335467] beta0 = [[0.11911475]] theta = [-0.30936244  0.52259994]\n",
            "Loss = [0.23552708]\n",
            "AUC = 0.5379497354497355\n",
            "\n",
            "\n",
            "Step #3000 beta = [-2.0335467] beta0 = [[0.11911475]] theta = [-0.23015146  0.51139766]\n",
            "Loss = [0.19314323]\n",
            "AUC = 0.5303238285393398\n",
            "\n",
            "\n",
            "Step #3500 beta = [-2.0335467] beta0 = [[0.11911475]] theta = [-0.17174372  0.5025264 ]\n",
            "Loss = [0.18224652]\n",
            "AUC = 0.5490556471035619\n",
            "\n",
            "\n",
            "Step #4000 beta = [-2.0335467] beta0 = [[0.11911475]] theta = [-0.12875374  0.50088364]\n",
            "Loss = [0.18992892]\n",
            "AUC = 0.4854932301740813\n",
            "\n",
            "\n",
            "Step #4500 beta = [-2.0335467] beta0 = [[0.11911475]] theta = [-0.09702516  0.49821928]\n",
            "Loss = [0.20311281]\n",
            "AUC = 0.49277693297461683\n",
            "\n",
            "\n",
            "Step #5000 beta = [-2.0335467] beta0 = [[0.11911475]] theta = [-0.07375716  0.5030436 ]\n",
            "Loss = [0.17127103]\n",
            "AUC = 0.4835555862640779\n",
            "\n",
            "\n",
            "Step #5500 beta = [-2.0335467] beta0 = [[0.11911475]] theta = [-0.05654721  0.49112338]\n",
            "Loss = [0.189659]\n",
            "AUC = 0.4842981809242871\n",
            "\n",
            "\n",
            "Step #6000 beta = [-2.0335467] beta0 = [[0.11911475]] theta = [-0.04391296  0.4917723 ]\n",
            "Loss = [0.20132962]\n",
            "AUC = 0.5082060633690448\n",
            "\n",
            "\n",
            "Step #6500 beta = [-2.0335467] beta0 = [[0.11911475]] theta = [-0.03460463  0.49549985]\n",
            "Loss = [0.16311994]\n",
            "AUC = 0.49208327224747106\n",
            "\n",
            "\n",
            "Step #7000 beta = [-2.0335467] beta0 = [[0.11911475]] theta = [-0.02766444  0.48407525]\n",
            "Loss = [0.19787344]\n",
            "AUC = 0.48723839449813244\n",
            "\n",
            "\n",
            "Step #7500 beta = [-2.0335467] beta0 = [[0.11911475]] theta = [-0.02271001  0.4795668 ]\n",
            "Loss = [0.18011631]\n",
            "AUC = 0.523575261947355\n",
            "\n",
            "\n",
            "Step #8000 beta = [-2.0335467] beta0 = [[0.11911475]] theta = [-0.01893358  0.48450115]\n",
            "Loss = [0.17770407]\n",
            "AUC = 0.4946358366095821\n",
            "\n",
            "\n",
            "Step #8500 beta = [-2.0335467] beta0 = [[0.11911475]] theta = [-0.01600091  0.47295102]\n",
            "Loss = [0.20492388]\n",
            "AUC = 0.4821643631358606\n",
            "\n",
            "\n",
            "Step #9000 beta = [-2.0335467] beta0 = [[0.11911475]] theta = [-0.0139462   0.47134933]\n",
            "Loss = [0.18408263]\n",
            "AUC = 0.4969738566169589\n",
            "\n",
            "\n",
            "Step #9500 beta = [-2.0335467] beta0 = [[0.11911475]] theta = [-0.01241042  0.47362396]\n",
            "Loss = [0.19822331]\n",
            "AUC = 0.49453869393446437\n",
            "\n",
            "\n",
            "Step #10000 beta = [-2.0335467] beta0 = [[0.11911475]] theta = [-0.01139935  0.4749223 ]\n",
            "Loss = [0.18404016]\n",
            "AUC = 0.505470665912092\n",
            "\n",
            "\n"
          ],
          "name": "stdout"
        }
      ]
    },
    {
      "metadata": {
        "id": "9qyzsptmz5I9",
        "colab_type": "code",
        "colab": {
          "base_uri": "https://localhost:8080/",
          "height": 376
        },
        "outputId": "5694774d-f918-4585-ef5d-81a9e328d822"
      },
      "cell_type": "code",
      "source": [
        "###\n",
        "# Extract regression results\n",
        "###\n",
        "\n",
        "# Plot loss over time\n",
        "plt.plot(loss_vec, 'k-')#[1000:len(loss_vec)]\n",
        "plt.title('regression_type' + ' Loss per Generation')\n",
        "plt.xlabel('Generation')\n",
        "plt.ylabel('Loss')\n",
        "plt.show()"
      ],
      "execution_count": 340,
      "outputs": [
        {
          "output_type": "display_data",
          "data": {
            "image/png": "[encoded data removed]",
            "text/plain": [
              "<matplotlib.figure.Figure at 0x7f1b860107f0>"
            ]
          },
          "metadata": {
            "tags": []
          }
        }
      ]
    },
    {
      "metadata": {
        "id": "GMTBXb_56sCb",
        "colab_type": "code",
        "colab": {
          "base_uri": "https://localhost:8080/",
          "height": 34
        },
        "outputId": "3906a54b-9465-4ea3-9291-de795b2e5d5c"
      },
      "cell_type": "code",
      "source": [
        "ACC = sess.run(ACC,feed_dict={beta_const: np_beta, beta0_const: np_beta0, y_target: rand_y})\n",
        "ACC"
      ],
      "execution_count": 226,
      "outputs": [
        {
          "output_type": "execute_result",
          "data": {
            "text/plain": [
              "(0.0, 0.07816092)"
            ]
          },
          "metadata": {
            "tags": []
          },
          "execution_count": 226
        }
      ]
    },
    {
      "metadata": {
        "id": "apcFd3RqCaiG",
        "colab_type": "code",
        "colab": {
          "base_uri": "https://localhost:8080/",
          "height": 34
        },
        "outputId": "47c5bd52-18ac-423f-9305-a03f0f9ff896"
      },
      "cell_type": "code",
      "source": [
        "y_pred = sess.run(model_output_theta, feed_dict={beta_const: np_beta, beta0_const: np_beta0})\n",
        "metrics.roc_auc_score(rand_y, y_pred)"
      ],
      "execution_count": 43,
      "outputs": [
        {
          "output_type": "execute_result",
          "data": {
            "text/plain": [
              "0.4503450695987835"
            ]
          },
          "metadata": {
            "tags": []
          },
          "execution_count": 43
        }
      ]
    },
    {
      "metadata": {
        "id": "1Qj9RAtYhIcI",
        "colab_type": "code",
        "colab": {
          "base_uri": "https://localhost:8080/",
          "height": 436
        },
        "outputId": "6d8256e1-8ad2-4f5b-ad1b-20473279f897"
      },
      "cell_type": "code",
      "source": [
        "init = tf.group(tf.global_variables_initializer(), tf.local_variables_initializer())\n",
        "sess.run(init)\n",
        "\n"
      ],
      "execution_count": 265,
      "outputs": [
        {
          "output_type": "error",
          "ename": "RuntimeError",
          "evalue": "ignored",
          "traceback": [
            "\u001b[0;31m---------------------------------------------------------------------------\u001b[0m",
            "\u001b[0;31mRuntimeError\u001b[0m                              Traceback (most recent call last)",
            "\u001b[0;32m<ipython-input-265-cb7075570a70>\u001b[0m in \u001b[0;36m<module>\u001b[0;34m()\u001b[0m\n\u001b[1;32m      1\u001b[0m \u001b[0minit\u001b[0m \u001b[0;34m=\u001b[0m \u001b[0mtf\u001b[0m\u001b[0;34m.\u001b[0m\u001b[0mgroup\u001b[0m\u001b[0;34m(\u001b[0m\u001b[0mtf\u001b[0m\u001b[0;34m.\u001b[0m\u001b[0mglobal_variables_initializer\u001b[0m\u001b[0;34m(\u001b[0m\u001b[0;34m)\u001b[0m\u001b[0;34m,\u001b[0m \u001b[0mtf\u001b[0m\u001b[0;34m.\u001b[0m\u001b[0mlocal_variables_initializer\u001b[0m\u001b[0;34m(\u001b[0m\u001b[0;34m)\u001b[0m\u001b[0;34m)\u001b[0m\u001b[0;34m\u001b[0m\u001b[0m\n\u001b[0;32m----> 2\u001b[0;31m \u001b[0msess\u001b[0m\u001b[0;34m.\u001b[0m\u001b[0mrun\u001b[0m\u001b[0;34m(\u001b[0m\u001b[0minit\u001b[0m\u001b[0;34m)\u001b[0m\u001b[0;34m\u001b[0m\u001b[0m\n\u001b[0m\u001b[1;32m      3\u001b[0m \u001b[0;34m\u001b[0m\u001b[0m\n",
            "\u001b[0;32m/usr/local/lib/python3.6/dist-packages/tensorflow/python/client/session.py\u001b[0m in \u001b[0;36mrun\u001b[0;34m(self, fetches, feed_dict, options, run_metadata)\u001b[0m\n\u001b[1;32m    898\u001b[0m     \u001b[0;32mtry\u001b[0m\u001b[0;34m:\u001b[0m\u001b[0;34m\u001b[0m\u001b[0m\n\u001b[1;32m    899\u001b[0m       result = self._run(None, fetches, feed_dict, options_ptr,\n\u001b[0;32m--> 900\u001b[0;31m                          run_metadata_ptr)\n\u001b[0m\u001b[1;32m    901\u001b[0m       \u001b[0;32mif\u001b[0m \u001b[0mrun_metadata\u001b[0m\u001b[0;34m:\u001b[0m\u001b[0;34m\u001b[0m\u001b[0m\n\u001b[1;32m    902\u001b[0m         \u001b[0mproto_data\u001b[0m \u001b[0;34m=\u001b[0m \u001b[0mtf_session\u001b[0m\u001b[0;34m.\u001b[0m\u001b[0mTF_GetBuffer\u001b[0m\u001b[0;34m(\u001b[0m\u001b[0mrun_metadata_ptr\u001b[0m\u001b[0;34m)\u001b[0m\u001b[0;34m\u001b[0m\u001b[0m\n",
            "\u001b[0;32m/usr/local/lib/python3.6/dist-packages/tensorflow/python/client/session.py\u001b[0m in \u001b[0;36m_run\u001b[0;34m(self, handle, fetches, feed_dict, options, run_metadata)\u001b[0m\n\u001b[1;32m   1056\u001b[0m     \u001b[0;31m# Check session.\u001b[0m\u001b[0;34m\u001b[0m\u001b[0;34m\u001b[0m\u001b[0m\n\u001b[1;32m   1057\u001b[0m     \u001b[0;32mif\u001b[0m \u001b[0mself\u001b[0m\u001b[0;34m.\u001b[0m\u001b[0m_closed\u001b[0m\u001b[0;34m:\u001b[0m\u001b[0;34m\u001b[0m\u001b[0m\n\u001b[0;32m-> 1058\u001b[0;31m       \u001b[0;32mraise\u001b[0m \u001b[0mRuntimeError\u001b[0m\u001b[0;34m(\u001b[0m\u001b[0;34m'Attempted to use a closed Session.'\u001b[0m\u001b[0;34m)\u001b[0m\u001b[0;34m\u001b[0m\u001b[0m\n\u001b[0m\u001b[1;32m   1059\u001b[0m     \u001b[0;32mif\u001b[0m \u001b[0mself\u001b[0m\u001b[0;34m.\u001b[0m\u001b[0mgraph\u001b[0m\u001b[0;34m.\u001b[0m\u001b[0mversion\u001b[0m \u001b[0;34m==\u001b[0m \u001b[0;36m0\u001b[0m\u001b[0;34m:\u001b[0m\u001b[0;34m\u001b[0m\u001b[0m\n\u001b[1;32m   1060\u001b[0m       raise RuntimeError('The Session graph is empty.  Add operations to the '\n",
            "\u001b[0;31mRuntimeError\u001b[0m: Attempted to use a closed Session."
          ]
        }
      ]
    },
    {
      "metadata": {
        "id": "qqIId2esOOsZ",
        "colab_type": "code",
        "colab": {
          "base_uri": "https://localhost:8080/",
          "height": 51
        },
        "outputId": "66677ddf-b666-4dfa-d64b-0559fc5312ee"
      },
      "cell_type": "code",
      "source": [
        "y_true = np.array([0, 0, 1, 1])\n",
        "y_scores = np.array([0.1, 0.4, 0.35, 0.8])\n",
        "\n",
        "\n",
        "import tensorflow as tf\n",
        "auc, update_op = tf.metrics.auc(y_true, y_scores)\n",
        "acc, update_ops = tf.metrics.accuracy(y_true, y_scores)\n",
        "with tf.Session() as sess:\n",
        "    sess.run(tf.local_variables_initializer())\n",
        "    print(\"tf auc: {}\".format(sess.run([auc])))\n",
        "    print(\"tf acc: {}\".format(sess.run([acc])))"
      ],
      "execution_count": 276,
      "outputs": [
        {
          "output_type": "stream",
          "text": [
            "tf auc: [0.0]\n",
            "tf acc: [0.0]\n"
          ],
          "name": "stdout"
        }
      ]
    },
    {
      "metadata": {
        "id": "nWHMLf89P2Dz",
        "colab_type": "code",
        "colab": {}
      },
      "cell_type": "code",
      "source": [
        ""
      ],
      "execution_count": 0,
      "outputs": []
    }
  ]
}