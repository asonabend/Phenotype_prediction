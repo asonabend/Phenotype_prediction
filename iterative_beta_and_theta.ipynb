{
  "nbformat": 4,
  "nbformat_minor": 0,
  "metadata": {
    "colab": {
      "name": "iterative beta and theta.ipynb",
      "version": "0.3.2",
      "provenance": [],
      "collapsed_sections": [],
      "include_colab_link": true
    },
    "kernelspec": {
      "name": "python3",
      "display_name": "Python 3"
    },
    "accelerator": "GPU"
  },
  "cells": [
    {
      "cell_type": "markdown",
      "metadata": {
        "id": "view-in-github",
        "colab_type": "text"
      },
      "source": [
        "[View in Colaboratory](https://colab.research.google.com/github/asonabend/Phenotype_prediction/blob/master/iterative_beta_and_theta.ipynb)"
      ]
    },
    {
      "metadata": {
        "id": "HD9M9QXbMILu",
        "colab_type": "code",
        "colab": {}
      },
      "cell_type": "code",
      "source": [
        "\n",
        "# Code to read csv file into colaboratory:\n",
        "!pip install -U -q PyDrive\n",
        "import tensorflow as tf\n",
        "import numpy as np\n",
        "import pandas as pd\n",
        "from numpy import linalg as LA\n",
        "import matplotlib.pyplot as plt\n",
        "from sklearn import metrics\n",
        "from scipy.special import expit\n"
      ],
      "execution_count": 0,
      "outputs": []
    },
    {
      "metadata": {
        "id": "bcprFrqwMpTw",
        "colab_type": "code",
        "colab": {
          "base_uri": "https://localhost:8080/",
          "height": 71
        },
        "outputId": "17d6cc8e-be6a-4424-ff7f-a5481aa67cad"
      },
      "cell_type": "code",
      "source": [
        "from pydrive.auth import GoogleAuth\n",
        "from pydrive.drive import GoogleDrive\n",
        "from google.colab import auth\n",
        "from oauth2client.client import GoogleCredentials\n",
        "\n",
        "# 1. Authenticate and create the PyDrive client.\n",
        "auth.authenticate_user()\n",
        "gauth = GoogleAuth()\n",
        "gauth.credentials = GoogleCredentials.get_application_default()\n",
        "drive = GoogleDrive(gauth)\n",
        "\n",
        "dat_pop, cui_subset = {},{}\n",
        "#### RA files: ####\n",
        "#2a. Get the file\n",
        "downloaded = drive.CreateFile({'id':'1fupXX3KJWTbdI7MLPHKbDyEDKAXCzO7a'}) # replace the id with id of file you want to access\n",
        "downloaded.GetContentFile('raprod2.ra.full.csv')  \n",
        "#3a. Read file as panda dataframe\n",
        "dat_pop['RA'] = pd.read_csv('raprod2.ra.full.csv') \n",
        "\n",
        "#2b. Get the file\n",
        "downloaded = drive.CreateFile({'id':'1Igod8k0utRAqgK4BeEuZqj31JCURQQ5K'}) \n",
        "downloaded.GetContentFile('cui2vec_RAsubset.csv')  \n",
        "#3b. Read file as panda dataframe\n",
        "cui_subset['RA'] = pd.read_csv('cui2vec_RAsubset.csv') \n",
        "\n",
        "#### CD files: ####\n",
        "#2a. Get the file\n",
        "downloaded = drive.CreateFile({'id':'1vUfSz-Rzc3WyIZmEZMWgbtVlGXmytTVm'}) # replace the id with id of file you want to access\n",
        "downloaded.GetContentFile('ibd.cd.full.csv')  \n",
        "#3a. Read file as panda dataframe\n",
        "dat_pop['CD'] = pd.read_csv('ibd.cd.full.csv') \n",
        "\n",
        "#2b. Get the file\n",
        "downloaded = drive.CreateFile({'id':'1ALcd709TZwbP9sDZ-kFSjrR606EGnR4i'}) \n",
        "downloaded.GetContentFile('cui2vec_CDsubset.csv')  \n",
        "#3b. Read file as panda dataframe\n",
        "cui_subset['CD'] = pd.read_csv('cui2vec_CDsubset.csv') \n",
        "\n",
        "#### CAD files: ####\n",
        "#2a. Get the file\n",
        "downloaded = drive.CreateFile({'id':'18SuT86aiD7vPjHRUoDm8OlqT7qN2mrT3'}) # replace the id with id of file you want to access\n",
        "downloaded.GetContentFile('raprod2.cad.full.csv')  \n",
        "#3a. Read file as panda dataframe\n",
        "dat_pop['CAD'] = pd.read_csv('raprod2.cad.full.csv') \n",
        "\n",
        "#2b. Get the file\n",
        "downloaded = drive.CreateFile({'id':'10DQBjawutgBYtTluXqfHLZ85bEC4ywr_'}) \n",
        "downloaded.GetContentFile('cui2vec_CADsubset.csv')  \n",
        "#3b. Read file as panda dataframe\n",
        "cui_subset['CAD'] = pd.read_csv('cui2vec_CADsubset.csv') \n",
        "\n",
        "#### CD files: ####\n",
        "#2a. Get the file\n",
        "downloaded = drive.CreateFile({'id':'1Tu9CJLaqr1EmHmv2vxxBzv1NT1RnE96h'}) # replace the id with id of file you want to access\n",
        "downloaded.GetContentFile('ibd.cu.full.csv')  \n",
        "#3a. Read file as panda dataframe\n",
        "dat_pop['UC'] = pd.read_csv('ibd.cu.full.csv') \n",
        "\n",
        "#2b. Get the file\n",
        "downloaded = drive.CreateFile({'id':'1nLmDJ8d0ftLojVzXDE4bcktkl-Ysvj2y'}) \n",
        "downloaded.GetContentFile('cui2vec_CUsubset.csv')  \n",
        "#3b. Read file as panda dataframe\n",
        "cui_subset['UC'] = pd.read_csv('cui2vec_CUsubset.csv')  \n"
      ],
      "execution_count": 2,
      "outputs": [
        {
          "output_type": "stream",
          "text": [
            "/usr/local/lib/python3.6/dist-packages/IPython/core/interactiveshell.py:2718: DtypeWarning: Columns (2) have mixed types. Specify dtype option on import or set low_memory=False.\n",
            "  interactivity=interactivity, compiler=compiler, result=result)\n"
          ],
          "name": "stderr"
        }
      ]
    },
    {
      "metadata": {
        "id": "mD-lQ5-vxk37",
        "colab_type": "code",
        "colab": {
          "base_uri": "https://localhost:8080/",
          "height": 85
        },
        "outputId": "f824c94b-5549-4fa4-d1fb-6f1366da2d5f"
      },
      "cell_type": "code",
      "source": [
        "disease_CUI,np_cui_subset , cos_sims,close_CUIs = {},{},{},{}\n",
        "counts, test_counts, y, test_y = {},{},{},{}\n",
        "CUI_codes = {'RA':'C0003873','CAD':'C0027051','CD':'C0010346','UC':'C0009324'}### for CAD the real CUI is C1956346\n",
        "for disease in cui_subset.keys():\n",
        "  # Convert to matrix and remove unnamed column:\n",
        "  disease_CUI[disease] = cui_subset[disease].loc[cui_subset[disease][list(cui_subset[disease])[0]] == CUI_codes[disease]].values\n",
        "  disease_CUI[disease] = np.delete(disease_CUI[disease],0,1)\n",
        "  np_cui_subset[disease] = cui_subset[disease].loc[:, ~cui_subset[disease].columns.str.contains('^Unnamed')].as_matrix()\n",
        "  \n",
        "\n",
        "  # Calculates cosine similarities of every CUI vs. the reference disease CUI:\n",
        "  cos_sims[disease] = ([disease_CUI[disease].dot(np_cui_subset[disease][i,:])/(LA.norm(np_cui_subset[disease][i,:])) for i in range(np_cui_subset[disease].shape[0])]/LA.norm(disease_CUI[disease]))\n",
        "  # Select top 10 percent for each reference CUI:\n",
        "  close_CUIs[disease] = (abs(cos_sims[disease]) > np.percentile(abs(cos_sims[disease]),90)).flatten()\n",
        "  np_cui_subset[disease] = np_cui_subset[disease][close_CUIs[disease],:]\n",
        "  cos_sims[disease] = cos_sims[disease][close_CUIs[disease],:]\n",
        "  # Normalizes the weights:\n",
        "  cos_sims[disease] = cos_sims[disease]/sum(cos_sims[disease])\n",
        "  ### First I filter the non-labeled rows then I filter the CUI's not mentioned in the notes\n",
        "  counts[disease] = dat_pop[disease].loc[dat_pop[disease]['label'].isin(['Y','N'])].loc[:,list(cui_subset[disease].iloc[close_CUIs[disease],0])].as_matrix()\n",
        "  # Patients response::\n",
        "  y[disease] = dat_pop[disease].loc[dat_pop[disease]['label'].isin(['Y','N'])].loc[:,'label'].eq('Y').mul(1).as_matrix()\n",
        "\n",
        "\n",
        "  ### Define test sample of size test_perc*patients_No ###\n",
        "  np.random.seed(116687)\n",
        "  test_perc = .3\n",
        "  test_index = np.random.choice(len(y[disease]),replace=False, size=round(test_perc*len(y[disease])))\n",
        "  test_y[disease] = y[disease][test_index]\n",
        "  test_counts[disease] = counts[disease][test_index,:]\n",
        "\n",
        "\n",
        "  ### Define training sample with the rest to the observations ###\n",
        "  y[disease] = np.delete(y[disease], test_index, 0)\n",
        "  counts[disease] = np.delete(counts[disease], test_index, 0)\n",
        "\n"
      ],
      "execution_count": 5,
      "outputs": [
        {
          "output_type": "stream",
          "text": [
            "RA(1, 500)(82, 500)[1.0]\n",
            "CD(1, 500)(105, 500)[1.0000000000000002]\n",
            "CAD(1, 500)(61, 500)[0.9999999999999999]\n",
            "UC(1, 500)(105, 500)[0.9999999999999999]\n"
          ],
          "name": "stdout"
        }
      ]
    },
    {
      "metadata": {
        "id": "uIpxTGfLmqT5",
        "colab_type": "code",
        "colab": {
          "base_uri": "https://localhost:8080/",
          "height": 34
        },
        "outputId": "8539fc0b-254f-4b44-a3d8-61e7d058c552"
      },
      "cell_type": "code",
      "source": [
        "# for FDR\n",
        "#[k*.05/np_cui_subset.shape[0] for k in range(np_cui_subset.shape[0])]\n",
        "BH_FDR = [k*.05/820 for k in range(820)]\n",
        "p_vals = [p/820 for p in range(820)]\n",
        "[p_vals[k] <= BH_FDR[k] for k in range(820)]\n",
        "np.percentile(abs(np_cos_sim),90)\n",
        "counts.shape\n"
      ],
      "execution_count": 24,
      "outputs": [
        {
          "output_type": "execute_result",
          "data": {
            "text/plain": [
              "<tf.Tensor 'CUIcounts_2:0' shape=(82, 3, 391) dtype=float32>"
            ]
          },
          "metadata": {
            "tags": []
          },
          "execution_count": 24
        }
      ]
    },
    {
      "metadata": {
        "id": "RWCBkE7w-Tse",
        "colab_type": "code",
        "colab": {}
      },
      "cell_type": "code",
      "source": [
        "### Iterative regression function ###\n",
        "#####################################\n",
        "# Inputs:\n",
        "## y = binary vector containing disease status, type: numpy.ndarray\n",
        "## counts = matrix with patients as rows and counts of the j^th column mentioned in the i^th patient note at (i,j), type: numpy.ndarray\n",
        "## vec_weights = normalized weight vector of size CUIs_No (number of CUIs to be used), type: numpy.ndarray\n",
        "## cui_subset = CUI-embedding matrix with CUIs as rows and dimensions as columns, type: numpy.ndarray\n",
        "## OPTIONAL PARAMETERS:\n",
        "## val_perc = number between (0,1) to determine the percentage of sample for validation, type: \n",
        "## reg_type = Select appropriate loss function based on regression type: either Ridge or LASSO\n",
        "## tot_iters = Total iterations for the regression paramaters loop\n",
        "def it_reg(y,\n",
        "           counts,\n",
        "           vec_weights,\n",
        "           cui_subset,\n",
        "           val_perc = 0.15,        \n",
        "           reg_type='Ridge',\n",
        "           lambda_theta=1.,\n",
        "           lambda_beta=1.,\n",
        "           step_theta=1e-1,\n",
        "           step_beta=1e-1,\n",
        "           tot_iters=1500):\n",
        "  \n",
        "### Define validation sample of size val_perc*patients_No ###\n",
        "  val_index = np.random.choice(len(y),replace=False, size=int(np.round(val_perc*len(y))))#### np.round instead of round\n",
        "  val_y = y[val_index]\n",
        "  val_counts = counts[val_index,:]\n",
        "  \n",
        "### Define training sample with the rest to the observations ###\n",
        "  y = np.delete(y, val_index, 0)\n",
        "  counts = np.delete(counts, val_index, 0)\n",
        "  \n",
        "  # Clear out old graph\n",
        "  tf.reset_default_graph()\n",
        "  # Create graph\n",
        "  sess = tf.Session()\n",
        "  \n",
        "### Data manipulation ###\n",
        "  \n",
        "  # Create tensorflow constant for the CUI matrix\n",
        "  tf_cui_subset = tf.constant(cui_subset,name='CUIsubset', dtype=tf.float32)\n",
        "\n",
        "  # Create tensorflow constants the cosine similarities\n",
        "  tf_cos_sim = tf.constant(vec_weights,name='cos_sim', dtype=tf.float32)\n",
        "  # X matrix which contains X_ij, the count of CUI j in patient's i notes:\n",
        "  X = counts.transpose()# Not centered anymore since I use log instead of x^2 (counts-counts.mean()).as_matrix().transpose()\n",
        "  # Count transformations, currently using x, log(x+1) and sqrt(x) # check to see if a NN to estimate optimal tranformation improves result or it's too unstable\n",
        "  np_X_poly = np.array([[X[cui,:],np.log(X[cui,:]+1),np.sqrt(X[cui,:])] for cui in range(X.shape[0])])#np.array([[np.ones(X.shape[1]),X[cui,:],np.square(X[cui,:])] for cui in range(X.shape[0])])\n",
        "  ### Now I convert it to a tensorflow constant:\n",
        "  tf_X_poly = tf.constant(np_X_poly,name='CUIcounts', dtype=tf.float32)#,shape=np_X_poly.shape\n",
        "\n",
        "  \n",
        "\n",
        "### Model Parameters ###\n",
        "\n",
        "\n",
        "  # Declare batch size\n",
        "  batch_size = counts.shape[0] ####### is this necessary now?\n",
        "\n",
        "  # Matrix Dimensions:\n",
        "  CUIs_No, CUIs_dim = cui_subset.shape\n",
        "  seed = 116687\n",
        "  patients_No = counts.shape[0]\n",
        "  theta_dim = np_X_poly.shape[1]\n",
        "  \n",
        "### Generates cosine sim. weighted CUI-embedding matrix ###\n",
        "  Vw = tf.multiply(tf_cui_subset,tf_cos_sim)\n",
        "  # Turn it into a 3D tensor for multiplications later:\n",
        "  Vw = tf.expand_dims(Vw, axis=0)\n",
        "  # Replicate the Weighted word-vec matrix for evey patient:\n",
        "  Vws = tf.tile(Vw,[patients_No,1,1])\n",
        "\n",
        "### Initializes TensorFlow parameters ###\n",
        "  ### theta such that f_j(x_ij)=theta0_j+theta1_j*X_ij+theta2_j*(X_ij)^2:\n",
        "  theta = tf.Variable(tf.random_normal(shape=[CUIs_No,1,theta_dim]),name='theta')\n",
        "  ### beta for regression:\n",
        "  beta = tf.Variable(tf.random_normal(shape=[CUIs_dim,1]),name='beta')\n",
        "  beta0 = tf.Variable(tf.random_normal(shape=[1,1]),name='beta0')\n",
        "  # Initialize placeholders\n",
        "  z_data = tf.placeholder(shape=[None, CUIs_dim], dtype=tf.float32)\n",
        "  y_target = tf.placeholder(shape=[None, 1], dtype=tf.float32)\n",
        "  beta_const = tf.placeholder(shape=[CUIs_dim,1], dtype=tf.float32,name='beta_const')\n",
        "  beta0_const = tf.placeholder(shape=[1,1], dtype=tf.float32,name='beta0_const')\n",
        "  \n",
        "### Declares model operations ####\n",
        "## Calculate f_j(x)=theta0j*x_ij+theta1j*log(x_ij+1)+theta2j*sqrt(x_ij) where j is a CUI\n",
        "  f_x = tf.transpose(tf.matmul(theta,tf_X_poly)) # tensor dimensions: (patiens_No,1,CUI_No)\n",
        "## Cosine sim. weighted CUI-embedding matrix:\n",
        "## Patient's feature vectors:\n",
        "  tf_z = tf.squeeze(tf.matmul(f_x,Vws))\n",
        "  model_output_beta = tf.sigmoid(tf.add(tf.matmul(z_data, beta), beta0))\n",
        "  model_output_theta = tf.sigmoid(tf.add(tf.matmul(tf_z, beta_const), beta0_const))\n",
        "  \n",
        "### Loss Functions ###\n",
        "\n",
        "# Loss functions to optimize over beta: ### Lasso is not implemented yet\n",
        "#regression_type = 'LASSO'\n",
        "  regression_type = 'Ridge'\n",
        "\n",
        "# Select appropriate loss function based on regression type\n",
        "  if reg_type == 'LASSO':\n",
        "\n",
        "    lasso_param = tf.constant(0.9)\n",
        "    heavyside_step = tf.truediv(1., tf.add(1., tf.exp(tf.multiply(-50., tf.subtract(beta, lasso_param)))))\n",
        "    regularization_param = tf.multiply(heavyside_step, 99.)\n",
        "    loss_beta = tf.add(tf.reduce_mean(tf.square(y_target - model_output_beta)), regularization_param)\n",
        "\n",
        "  elif reg_type == 'Ridge':\n",
        "# Declare the Ridge loss function\n",
        "## Ridge loss = L2_loss + L2 norm of slope\n",
        "    ridge_param = tf.constant(lambda_beta)\n",
        "    ridge_loss = tf.reduce_mean(tf.square(beta))\n",
        "    loss_beta = tf.expand_dims(tf.add(tf.reduce_mean(tf.square(y_target - model_output_beta)), tf.multiply(ridge_param, ridge_loss)), 0)\n",
        "  \n",
        "# Loss functions to optimize over theta\n",
        "\n",
        "## Regularization for theta:\n",
        "  theta_param = tf.constant(lambda_theta)\n",
        "  theta_reg_loss = tf.reduce_mean(tf.square(theta))\n",
        "  loss_theta = tf.expand_dims(tf.add(tf.reduce_mean(tf.square(y_target - model_output_theta)), tf.multiply(theta_param, theta_reg_loss)), 0)\n",
        "  \n",
        "\n",
        "### Optimizers ###\n",
        "\n",
        "# Declare optimizers\n",
        "  my_opt_beta = tf.train.GradientDescentOptimizer(step_beta)\n",
        "  train_step_beta = my_opt_beta.minimize(loss_beta)\n",
        "\n",
        "  #tf.train.AdamOptimizer(1e-4).minimize(cross_entropy) ### might be better than SGD\n",
        "  my_opt_theta = tf.train.GradientDescentOptimizer(step_theta)\n",
        "  train_step_theta = my_opt_theta.minimize(loss_theta)\n",
        "\n",
        "### Runs regression: ###\n",
        "# make results reproducible\n",
        "  np.random.seed(seed)\n",
        "  tf.set_random_seed(seed)\n",
        "\n",
        "# Initialize variables\n",
        "  init = tf.group(tf.global_variables_initializer(), tf.local_variables_initializer())\n",
        "  sess.run(init)\n",
        "  np_Z = sess.run(tf_z)\n",
        "# Training loop\n",
        "  loss_vec, trainAUC_vec, valAUC_vec = [],[],[]\n",
        "  for i in range(tot_iters):\n",
        "      rand_index = np.random.choice(np_Z.shape[0], size=batch_size,replace=False)\n",
        "      rand_z = np_Z[rand_index,:]\n",
        "      rand_y = np.array([y[rand_index]]).transpose()\n",
        "      sess.run(train_step_beta, feed_dict={z_data: rand_z, y_target: rand_y})\n",
        "      ##\n",
        "      np_beta = sess.run(beta)\n",
        "      np_beta0 = sess.run(beta0)\n",
        "      y_pred = expit(rand_z.dot(np_beta)+np_beta0)\n",
        "      sess.run(train_step_theta, feed_dict={beta_const: np_beta, beta0_const: np_beta0, y_target: rand_y})\n",
        "      rand_z = sess.run(tf_z)\n",
        "      ##\n",
        "      temp_loss = sess.run(loss_beta, feed_dict={z_data: rand_z, y_target: rand_y})\n",
        "      val_y_preds = predict(counts=val_counts,vec_weights=vec_weights,cui_subset=cui_subset,theta=sess.run(theta),beta=np_beta,beta0=np_beta0)\n",
        "      temp_valAUC = metrics.roc_auc_score(val_y, val_y_preds)\n",
        "      temp_trainAUC = metrics.roc_auc_score(rand_y, y_pred)\n",
        "      loss_vec.append(temp_loss[0])\n",
        "      valAUC_vec.append(temp_valAUC)\n",
        "      trainAUC_vec.append(temp_trainAUC)\n",
        "      \n",
        "      #if (i+1)%1500==0 or i == 0:\n",
        "      #  print('Step #' + str(i+1) + ' beta = ' + str(sess.run(beta)[0]) + ' beta0 = ' + str(sess.run(beta0)) + ' theta = ' + str(sess.run(theta[0,0])))\n",
        "      #  print('Loss = ' + str(temp_loss))\n",
        "      #  print('training AUC = ' + str(temp_valAUC))\n",
        "      #  print('validation AUC = ' + str(temp_trainAUC))\n",
        "      #  print('\\n')\n",
        " \n",
        "\n",
        "### Extract regression results: ###\n",
        "\n",
        "  results = {'beta0': np_beta0, 'beta': np_beta, 'theta': sess.run(theta),'auc': metrics.roc_auc_score(rand_y, y_pred),\n",
        "             'Loss': loss_vec, 'valAUC':valAUC_vec, 'trainAUC':trainAUC_vec}\n",
        "  \n",
        "### Plots loss over time: ###\n",
        "  plt.plot(loss_vec, 'k-')\n",
        "  #plt.plot(range(tot_iters), loss_vec, 'k-', range(tot_iters), valAUC_vec, 'bs', range(tot_iters), trainAUC_vec, 'g^')\n",
        "  plt.title('regression_type' + ' Loss per Generation')\n",
        "  plt.xlabel('Generation')\n",
        "  plt.ylabel('Loss')\n",
        "  plt.show()\n",
        "  return(results)\n",
        "\n",
        "###########################\n",
        "### Prediction function ###\n",
        "###########################\n",
        "# Computes model outcome:\n",
        "# Inputs:\n",
        "## counts = matrix with patients as rows and counts of the j^th column mentioned in the i^th patient note at (i,j), type: numpy.ndarray\n",
        "## vec_weights = normalized weight vector of size CUIs_No (number of CUIs to be used), type: numpy.ndarray\n",
        "## cui_subset = CUI-embedding matrix with CUIs as rows and dimensions as columns, type: numpy.ndarray\n",
        "## theta = matrix with theta parameters for f_j(x)=theta0j*x_ij+theta1j*log(x_ij+1)+theta2j*sqrt(x_ij) where j is a CUI, type: numpy.ndarray\n",
        "## beta, beta0 = coefficients for regression, type: numpy.ndarray\n",
        "def predict(counts,\n",
        "           vec_weights,\n",
        "           cui_subset,\n",
        "           theta,        \n",
        "           beta,\n",
        "           beta0):\n",
        "\n",
        "  # Clear out old graph\n",
        "  tf.reset_default_graph()\n",
        "  # Create graph\n",
        "  sess = tf.Session()\n",
        "  \n",
        "### Data manipulation ###\n",
        "  \n",
        "  # Create tensorflow constant for the CUI matrix\n",
        "  tf_cui_subset = tf.constant(cui_subset,name='CUIsubset', dtype=tf.float32)\n",
        "\n",
        "  # Create tensorflow constants the cosine similarities\n",
        "  tf_cos_sim = tf.constant(vec_weights,name='cos_sim', dtype=tf.float32)\n",
        "  # X matrix which contains X_ij, the count of CUI j in patient's i notes:\n",
        "  X = counts.transpose()\n",
        "  # Count transformations, currently using x, log(x+1) and sqrt(x) \n",
        "  np_X_poly = np.array([[X[cui,:],np.log(X[cui,:]+1),np.sqrt(X[cui,:])] for cui in range(X.shape[0])])\n",
        "  ### Now I convert it to a tensorflow constant:\n",
        "  tf_X_poly = tf.constant(np_X_poly,name='CUIcounts', dtype=tf.float32)#,shape=np_X_poly.shape\n",
        "\n",
        "### Initializes TensorFlow constants for parameters ###\n",
        "  theta = tf.constant(theta,name='theta', dtype=tf.float32)\n",
        "  beta0 = tf.constant(beta0,name='beta0', dtype=tf.float32)\n",
        "  beta = tf.constant(beta,name='beta', dtype=tf.float32)\n",
        "\n",
        "### Model dimensions ###\n",
        "\n",
        "  # Matrix Dimensions:\n",
        "  CUIs_No, CUIs_dim = cui_subset.shape\n",
        "  patients_No = counts.shape[0]\n",
        "  theta_dim = np_X_poly.shape[1]\n",
        "  \n",
        "### Generates cosine sim. weighted CUI-embedding matrix ###\n",
        "  Vw = tf.multiply(tf_cui_subset,tf_cos_sim)\n",
        "  # Turn it into a 3D tensor for multiplications later:\n",
        "  Vw = tf.expand_dims(Vw, axis=0)\n",
        "  # Replicate the Weighted word-vec matrix for evey patient:\n",
        "  Vws = tf.tile(Vw,[patients_No,1,1])\n",
        "\n",
        "### Declares model operations ####\n",
        "  # Calculate f_j(x)=theta0j*x_ij+theta1j*log(x_ij+1)+theta2j*sqrt(x_ij) where j is a CUI\n",
        "  f_x = tf.transpose(tf.matmul(theta,tf_X_poly)) # tensor dimensions: (patiens_No,1,CUI_No)\n",
        "  # Cosine sim. weighted CUI-embedding matrix:\n",
        "  # Patient's feature vectors:\n",
        "  tf_z = tf.squeeze(tf.matmul(f_x,Vws))\n",
        "  model_output = tf.sigmoid(tf.add(tf.matmul(tf_z, beta), beta0))\n",
        "  \n",
        "  ### Extract output results: ###\n",
        "\n",
        "  results = sess.run(model_output)\n",
        "  return(results)\n"
      ],
      "execution_count": 0,
      "outputs": []
    },
    {
      "metadata": {
        "id": "_B7FgorB3d6B",
        "colab_type": "code",
        "colab": {}
      },
      "cell_type": "code",
      "source": [
        "\n",
        "\n"
      ],
      "execution_count": 0,
      "outputs": []
    },
    {
      "metadata": {
        "id": "WWO5JZb9ITdg",
        "colab_type": "code",
        "colab": {
          "base_uri": "https://localhost:8080/",
          "height": 252
        },
        "outputId": "5b32d880-3132-426d-f03e-4149d817f505"
      },
      "cell_type": "code",
      "source": [
        "lambda_thetas, lambda_betas = [1.], [1.]#[.5,.75,1.], [1.,2.5,5.]\n",
        "#step_thetas, step_betas = [.5,1e-1,1e-2,1e-4], [.5,1e-1,1e-2,1e-4]\n",
        "results = {}\n",
        "for disease in cui_subset.keys():\n",
        "  results[disease] = {}\n",
        "  i = 1\n",
        "  for lamb_th in lambda_thetas:\n",
        "    for lamb_be in lambda_betas:\n",
        "      params = it_reg(y=y[disease],counts=counts[disease],vec_weights=cos_sims[disease],cui_subset=np_cui_subset[disease],\n",
        "                val_perc = 0.1,lambda_theta=lamb_th,lambda_beta=lamb_be,tot_iters=5)\n",
        "      y_test_preds = predict(counts=test_counts[disease],vec_weights=cos_sims[disease],cui_subset=np_cui_subset[disease],\n",
        "                         theta=params['theta'],beta=params['beta'],beta0=params['beta0'])\n",
        "      test_auc = metrics.roc_auc_score(test_y[disease], y_test_preds)\n",
        "      results[disease]['lamb_th'+str(lamb_th)+'lamb_be'+str(lamb_be)] = {'results':params,'test_auc':test_auc}\n",
        "      print(i,test_auc)\n",
        "      i += 1\n",
        "        "
      ],
      "execution_count": 10,
      "outputs": [
        {
          "output_type": "error",
          "ename": "NameError",
          "evalue": "ignored",
          "traceback": [
            "\u001b[0;31m---------------------------------------------------------------------------\u001b[0m",
            "\u001b[0;31mNameError\u001b[0m                                 Traceback (most recent call last)",
            "\u001b[0;32m<ipython-input-10-4ca012e0a988>\u001b[0m in \u001b[0;36m<module>\u001b[0;34m()\u001b[0m\n\u001b[1;32m      7\u001b[0m   \u001b[0;32mfor\u001b[0m \u001b[0mlamb_th\u001b[0m \u001b[0;32min\u001b[0m \u001b[0mlambda_thetas\u001b[0m\u001b[0;34m:\u001b[0m\u001b[0;34m\u001b[0m\u001b[0m\n\u001b[1;32m      8\u001b[0m     \u001b[0;32mfor\u001b[0m \u001b[0mlamb_be\u001b[0m \u001b[0;32min\u001b[0m \u001b[0mlambda_betas\u001b[0m\u001b[0;34m:\u001b[0m\u001b[0;34m\u001b[0m\u001b[0m\n\u001b[0;32m----> 9\u001b[0;31m       \u001b[0mparams\u001b[0m \u001b[0;34m=\u001b[0m \u001b[0mit_reg\u001b[0m\u001b[0;34m(\u001b[0m\u001b[0my\u001b[0m\u001b[0;34m=\u001b[0m\u001b[0my\u001b[0m\u001b[0;34m,\u001b[0m\u001b[0mcounts\u001b[0m\u001b[0;34m=\u001b[0m\u001b[0mcounts\u001b[0m\u001b[0;34m,\u001b[0m\u001b[0mvec_weights\u001b[0m\u001b[0;34m=\u001b[0m\u001b[0mnp_cos_sim\u001b[0m\u001b[0;34m,\u001b[0m\u001b[0mcui_subset\u001b[0m\u001b[0;34m=\u001b[0m\u001b[0mnp_cui_subset\u001b[0m\u001b[0;34m,\u001b[0m\u001b[0mval_perc\u001b[0m \u001b[0;34m=\u001b[0m \u001b[0;36m0.1\u001b[0m\u001b[0;34m,\u001b[0m\u001b[0mlambda_theta\u001b[0m\u001b[0;34m=\u001b[0m\u001b[0mlamb_th\u001b[0m\u001b[0;34m,\u001b[0m\u001b[0mlambda_beta\u001b[0m\u001b[0;34m=\u001b[0m\u001b[0mlamb_be\u001b[0m\u001b[0;34m,\u001b[0m\u001b[0mtot_iters\u001b[0m\u001b[0;34m=\u001b[0m\u001b[0;36m5\u001b[0m\u001b[0;34m)\u001b[0m\u001b[0;34m\u001b[0m\u001b[0m\n\u001b[0m\u001b[1;32m     10\u001b[0m       y_test_preds = predict(counts=test_counts,vec_weights=np_cos_sim,cui_subset=np_cui_subset,\n\u001b[1;32m     11\u001b[0m                          theta=params['theta'],beta=params['beta'],beta0=params['beta0'])\n",
            "\u001b[0;31mNameError\u001b[0m: name 'np_cos_sim' is not defined"
          ]
        }
      ]
    },
    {
      "metadata": {
        "id": "WJkbX8xpGkZP",
        "colab_type": "code",
        "colab": {
          "base_uri": "https://localhost:8080/",
          "height": 207
        },
        "outputId": "5d8d70d5-7f1c-45ff-f013-52432ecdd77a"
      },
      "cell_type": "code",
      "source": [
        "for k in results1.keys():\n",
        "  print(results1[k]['test_auc'])\n",
        "results1.keys()  "
      ],
      "execution_count": 74,
      "outputs": [
        {
          "output_type": "stream",
          "text": [
            "0.8982630272952854\n",
            "0.8709677419354839\n",
            "0.7369727047146402\n",
            "0.8461538461538461\n",
            "0.6129032258064517\n",
            "0.8908188585607941\n",
            "0.8560794044665012\n",
            "0.9205955334987594\n",
            "0.6203473945409429\n"
          ],
          "name": "stdout"
        },
        {
          "output_type": "execute_result",
          "data": {
            "text/plain": [
              "dict_keys(['lamb_th0.5lamb_be1.0', 'lamb_th0.5lamb_be2.5', 'lamb_th0.5lamb_be5.0', 'lamb_th0.75lamb_be1.0', 'lamb_th0.75lamb_be2.5', 'lamb_th0.75lamb_be5.0', 'lamb_th1.0lamb_be1.0', 'lamb_th1.0lamb_be2.5', 'lamb_th1.0lamb_be5.0'])"
            ]
          },
          "metadata": {
            "tags": []
          },
          "execution_count": 74
        }
      ]
    },
    {
      "metadata": {
        "id": "hPLw01l24ITN",
        "colab_type": "code",
        "colab": {
          "base_uri": "https://localhost:8080/",
          "height": 85
        },
        "outputId": "0323b37e-0d41-40db-d156-9d4e31ab140f"
      },
      "cell_type": "code",
      "source": [
        "print(results['lamb_th0.1lamb_be5.0']['test_auc'])\n",
        "print(results['lamb_th0.1lamb_be10.0']['test_auc'])\n",
        "print(results['lamb_th1.0lamb_be10.0']['test_auc'])\n",
        "print(results['lamb_th10.0lamb_be10.0']['test_auc'])"
      ],
      "execution_count": 30,
      "outputs": [
        {
          "output_type": "stream",
          "text": [
            "0.9379652605459058\n",
            "0.9106699751861043\n",
            "0.9230769230769231\n",
            "0.9156327543424317\n"
          ],
          "name": "stdout"
        }
      ]
    },
    {
      "metadata": {
        "id": "WvNqv8ypASJh",
        "colab_type": "code",
        "colab": {
          "base_uri": "https://localhost:8080/",
          "height": 54
        },
        "outputId": "92d2261c-2ca1-4d53-ffb4-7ea43718452e"
      },
      "cell_type": "code",
      "source": [
        "results2.keys()"
      ],
      "execution_count": 39,
      "outputs": [
        {
          "output_type": "execute_result",
          "data": {
            "text/plain": [
              "dict_keys(['lamb_th0.5lamb_be1.0', 'lamb_th0.5lamb_be2.5', 'lamb_th0.5lamb_be5.0', 'lamb_th0.75lamb_be1.0', 'lamb_th0.75lamb_be2.5', 'lamb_th0.75lamb_be5.0', 'lamb_th1.0lamb_be1.0', 'lamb_th1.0lamb_be2.5', 'lamb_th1.0lamb_be5.0'])"
            ]
          },
          "metadata": {
            "tags": []
          },
          "execution_count": 39
        }
      ]
    },
    {
      "metadata": {
        "id": "bpaL1xBNMCvR",
        "colab_type": "code",
        "colab": {
          "base_uri": "https://localhost:8080/",
          "height": 393
        },
        "outputId": "8c2f5d5b-e31e-4ee4-aeed-149a6f4c9403"
      },
      "cell_type": "code",
      "source": [
        "\n",
        "plt.plot(results2['lamb_th0.5lamb_be1.0']['results']['valAUC'], 'k-')\n",
        "plt.title('regression_type' + ' Loss per Generation')\n",
        "plt.xlabel('Generation')\n",
        "plt.ylabel('Val. AUC')\n",
        "plt.show()\n",
        "np.max(results2['lamb_th0.5lamb_be1.0']['results']['valAUC'])"
      ],
      "execution_count": 40,
      "outputs": [
        {
          "output_type": "display_data",
          "data": {
            "image/png": "[encoded data removed]",
            "text/plain": [
              "<matplotlib.figure.Figure at 0x7f82399d6be0>"
            ]
          },
          "metadata": {
            "tags": []
          }
        },
        {
          "output_type": "execute_result",
          "data": {
            "text/plain": [
              "0.6515151515151515"
            ]
          },
          "metadata": {
            "tags": []
          },
          "execution_count": 40
        }
      ]
    },
    {
      "metadata": {
        "id": "qZVQLZbRMIwG",
        "colab_type": "code",
        "colab": {
          "base_uri": "https://localhost:8080/",
          "height": 393
        },
        "outputId": "25b67986-add3-4673-8b08-1c13c7aeeb14"
      },
      "cell_type": "code",
      "source": [
        "plt.plot(results2['lamb_th1.0lamb_be5.0']['results']['valAUC'], 'k-')\n",
        "plt.title('regression_type' + ' Loss per Generation')\n",
        "plt.xlabel('Generation')\n",
        "plt.ylabel('Val. AUC')\n",
        "plt.show()\n",
        "np.max(results2['lamb_th1.0lamb_be5.0']['results']['valAUC'])\n"
      ],
      "execution_count": 46,
      "outputs": [
        {
          "output_type": "display_data",
          "data": {
            "image/png": "[encoded data removed]",
            "text/plain": [
              "<matplotlib.figure.Figure at 0x7f81e248fba8>"
            ]
          },
          "metadata": {
            "tags": []
          }
        },
        {
          "output_type": "execute_result",
          "data": {
            "text/plain": [
              "0.9848484848484849"
            ]
          },
          "metadata": {
            "tags": []
          },
          "execution_count": 46
        }
      ]
    },
    {
      "metadata": {
        "id": "XB9yqZwYuF0A",
        "colab_type": "code",
        "colab": {
          "base_uri": "https://localhost:8080/",
          "height": 34
        },
        "outputId": "5ea529f9-b83d-48a6-c618-57836e433adc"
      },
      "cell_type": "code",
      "source": [
        "results1['lamb_th0.75lamb_be1.0']['results'].keys()"
      ],
      "execution_count": 32,
      "outputs": [
        {
          "output_type": "execute_result",
          "data": {
            "text/plain": [
              "dict_keys(['beta0', 'beta', 'theta', 'auc', 'Loss', 'valAUC', 'trainAUC'])"
            ]
          },
          "metadata": {
            "tags": []
          },
          "execution_count": 32
        }
      ]
    },
    {
      "metadata": {
        "id": "wdCVCq2sv_VB",
        "colab_type": "code",
        "colab": {
          "base_uri": "https://localhost:8080/",
          "height": 393
        },
        "outputId": "ead1e012-886b-46b9-ce7a-680642fe354f"
      },
      "cell_type": "code",
      "source": [
        "plt.plot(results1['lamb_th0.75lamb_be1.0']['results']['Loss'], 'k-')\n",
        "plt.title('regression_type' + ' Loss per Generation')\n",
        "plt.xlabel('Generation')\n",
        "plt.ylabel('Val. AUC')\n",
        "plt.show()\n",
        "np.max(results1['lamb_th0.75lamb_be1.0']['results']['Loss'])\n"
      ],
      "execution_count": 36,
      "outputs": [
        {
          "output_type": "display_data",
          "data": {
            "image/png": "[encoded data removed]",
            "text/plain": [
              "<matplotlib.figure.Figure at 0x7f6258edf160>"
            ]
          },
          "metadata": {
            "tags": []
          }
        },
        {
          "output_type": "execute_result",
          "data": {
            "text/plain": [
              "1.1538223"
            ]
          },
          "metadata": {
            "tags": []
          },
          "execution_count": 36
        }
      ]
    },
    {
      "metadata": {
        "id": "gh68Vd3W8rkH",
        "colab_type": "code",
        "colab": {
          "base_uri": "https://localhost:8080/",
          "height": 37
        },
        "outputId": "19f522a1-35fc-405a-f8a6-50f59ba61537"
      },
      "cell_type": "code",
      "source": [
        "\n",
        "def simulate(cui_subset,patients_No):\n",
        "\n",
        "\n",
        "  ### Model dimensions ###\n",
        "\n",
        "    # Matrix Dimensions:\n",
        "  CUIs_No, CUIs_dim = np_cui_subset.shape\n",
        "\n",
        "  \n",
        "\n",
        "\n",
        "\n",
        "  #CUIs_No = len(np_cos_sim)\n",
        "  np.random.seed(116687)\n",
        "  # F and power law distribution mix to keep the count matrix similar to that of the RA real data\n",
        "  scaling = np.random.f(2, 10, patients_No)*100\n",
        "  sim_counts = np.array([np.round((np.random.power(.05, CUIs_No)*scaling[p])) for p in range(patients_No)])\n",
        "  # Weights for each CUI\n",
        "  vec_weights = np.random.normal(0,10,size=(CUIs_No,1))\n",
        "\n",
        "\n",
        "  ##raw_vals = vec_weights*np_cui_subset\n",
        "\n",
        "\n",
        "  ##############################################\n",
        "\n",
        "  # Clear out old graph\n",
        "  tf.reset_default_graph()\n",
        "  # Create graph\n",
        "  sess = tf.Session()\n",
        "\n",
        "  ### Data manipulation ###\n",
        "\n",
        "  # Create tensorflow constant for the CUI matrix\n",
        "  tf_cui_subset = tf.constant(cui_subset,name='CUIsubset', dtype=tf.float32)\n",
        "\n",
        "  # Create tensorflow constants the cosine similarities\n",
        "  tf_cos_sim = tf.constant(vec_weights,name='cos_sim', dtype=tf.float32)\n",
        "  # X matrix which contains X_ij, the count of CUI j in patient's i notes:\n",
        "  X = sim_counts.transpose()\n",
        "  # Count transformations, currently using x, log(x+1) and sqrt(x) \n",
        "  np_X_poly = np.array([[X[cui,:],np.log(X[cui,:]+1),np.sqrt(X[cui,:])] for cui in range(X.shape[0])])\n",
        "  \n",
        "  ### Now I convert it to a tensorflow constant:\n",
        "  tf_X_poly = tf.constant(np_X_poly,name='CUIcounts', dtype=tf.float32)#,shape=np_X_poly.shape\n",
        "  # Simulate theta parameters\n",
        "  theta_dim = np_X_poly.shape[1]\n",
        "  theta = np.random.normal(0,10,size=(CUIs_No,1,theta_dim))\n",
        "  beta = np.random.normal(0,1,size=(CUIs_dim,1))\n",
        "  beta0 = np.random.normal(0,1)\n",
        "  ### Initializes TensorFlow constants for parameters ###\n",
        "  theta = tf.constant(theta,name='theta', dtype=tf.float32)\n",
        "  beta0 = tf.constant(beta0,name='beta0', dtype=tf.float32)\n",
        "  beta = tf.constant(beta,name='beta', dtype=tf.float32)\n",
        "\n",
        "\n",
        "  ### Generates cosine sim. weighted CUI-embedding matrix ###\n",
        "  Vw = tf.multiply(tf_cui_subset,tf_cos_sim)\n",
        "  # Turn it into a 3D tensor for multiplications later:\n",
        "  Vw = tf.expand_dims(Vw, axis=0)\n",
        "  # Replicate the Weighted word-vec matrix for evey patient:\n",
        "  Vws = tf.tile(Vw,[patients_No,1,1])\n",
        "  ### Declares model operations ####\n",
        "  # Calculate f_j(x)=theta0j*x_ij+theta1j*log(x_ij+1)+theta2j*sqrt(x_ij) where j is a CUI\n",
        "  f_x = tf.transpose(tf.matmul(theta,tf_X_poly)) # tensor dimensions: (patiens_No,1,CUI_No)\n",
        "  # Cosine sim. weighted CUI-embedding matrix:\n",
        "  # Patient's feature vectors:\n",
        "  tf_z = tf.squeeze(tf.matmul(f_x,Vws))\n",
        "  model_output = tf.sigmoid(tf.add(tf.matmul(tf_z, beta), beta0))\n",
        "  probs = sess.run(model_output)\n",
        "  y = np.random.binomial( n=1, p= probs).flatten()\n",
        "  sim_data = {'y':y,'counts':sim_counts,'vec_weights':vec_weights}\n",
        "  return(sim_data)\n"
      ],
      "execution_count": 37,
      "outputs": []
    },
    {
      "metadata": {
        "id": "ROiY2E238u5F",
        "colab_type": "code",
        "colab": {
          "base_uri": "https://localhost:8080/",
          "height": 37
        },
        "outputId": "7823e80e-5460-4b05-d5f2-a5fb65b73e4d"
      },
      "cell_type": "code",
      "source": [
        ""
      ],
      "execution_count": 37,
      "outputs": []
    },
    {
      "metadata": {
        "id": "Wyo5xa5k9anx",
        "colab_type": "code",
        "colab": {}
      },
      "cell_type": "code",
      "source": [
        ""
      ],
      "execution_count": 0,
      "outputs": []
    }
  ]
}