{
  "nbformat": 4,
  "nbformat_minor": 0,
  "metadata": {
    "colab": {
      "name": "iterative beta and theta.ipynb",
      "version": "0.3.2",
      "provenance": [],
      "collapsed_sections": [],
      "include_colab_link": true
    },
    "kernelspec": {
      "name": "python3",
      "display_name": "Python 3"
    },
    "accelerator": "GPU"
  },
  "cells": [
    {
      "cell_type": "markdown",
      "metadata": {
        "id": "view-in-github",
        "colab_type": "text"
      },
      "source": [
        "[View in Colaboratory](https://colab.research.google.com/github/asonabend/Phenotype_prediction/blob/master/iterative_beta_and_theta.ipynb)"
      ]
    },
    {
      "metadata": {
        "id": "HD9M9QXbMILu",
        "colab_type": "code",
        "colab": {}
      },
      "cell_type": "code",
      "source": [
        "\n",
        "# Code to read csv file into colaboratory:\n",
        "#!pip install -U -q PyDrive\n",
        "import tensorflow as tf\n",
        "import numpy as np\n",
        "import pandas as pd\n",
        "from numpy import linalg as LA\n",
        "import matplotlib.pyplot as plt\n",
        "from sklearn import metrics\n",
        "from scipy.special import expit\n"
      ],
      "execution_count": 0,
      "outputs": []
    },
    {
      "metadata": {
        "id": "FQ0pHZB70RJz",
        "colab_type": "code",
        "colab": {}
      },
      "cell_type": "code",
      "source": [
        "!pip install -U -q PyDrive"
      ],
      "execution_count": 0,
      "outputs": []
    },
    {
      "metadata": {
        "id": "bcprFrqwMpTw",
        "colab_type": "code",
        "colab": {
          "base_uri": "https://localhost:8080/",
          "height": 71
        },
        "outputId": "15cb4d19-fe58-4240-d0ed-8ab9e58a11b3"
      },
      "cell_type": "code",
      "source": [
        "from pydrive.auth import GoogleAuth\n",
        "from pydrive.drive import GoogleDrive\n",
        "from google.colab import auth\n",
        "from oauth2client.client import GoogleCredentials\n",
        "\n",
        "# 1. Authenticate and create the PyDrive client.\n",
        "auth.authenticate_user()\n",
        "gauth = GoogleAuth()\n",
        "gauth.credentials = GoogleCredentials.get_application_default()\n",
        "drive = GoogleDrive(gauth)\n",
        "\n",
        "#2a. Get the file\n",
        "downloaded = drive.CreateFile({'id':'1fupXX3KJWTbdI7MLPHKbDyEDKAXCzO7a'}) # replace the id with id of file you want to access\n",
        "downloaded.GetContentFile('raprod2.ra.full.csv')  \n",
        "#3a. Read file as panda dataframe\n",
        "dat_pop = pd.read_csv('raprod2.ra.full.csv') \n",
        "\n",
        "#2b. Get the file\n",
        "downloaded = drive.CreateFile({'id':'1Igod8k0utRAqgK4BeEuZqj31JCURQQ5K'}) \n",
        "downloaded.GetContentFile('cui2vec_RAsubset.csv')  \n",
        "#3b. Read file as panda dataframe\n",
        "cui_subset = pd.read_csv('cui2vec_RAsubset.csv') \n",
        "\n",
        "#2c. Get the file\n",
        "downloaded = drive.CreateFile({'id':'1Z8YK2sVwKeA0OsZQV-sMNeFSkAI0zX02'}) \n",
        "downloaded.GetContentFile('C1858558.csv')  \n",
        "#3c. Read file as panda dataframe\n",
        "C1858558 = pd.read_csv('C1858558.csv') \n"
      ],
      "execution_count": 3,
      "outputs": [
        {
          "output_type": "stream",
          "text": [
            "/usr/local/lib/python3.6/dist-packages/IPython/core/interactiveshell.py:2718: DtypeWarning: Columns (2) have mixed types. Specify dtype option on import or set low_memory=False.\n",
            "  interactivity=interactivity, compiler=compiler, result=result)\n"
          ],
          "name": "stderr"
        }
      ]
    },
    {
      "metadata": {
        "id": "60JNkqela7CD",
        "colab_type": "code",
        "colab": {}
      },
      "cell_type": "code",
      "source": [
        "# Clear out old graph\n",
        "tf.reset_default_graph()\n",
        "\n",
        "# Create graph\n",
        "sess = tf.Session()\n"
      ],
      "execution_count": 0,
      "outputs": []
    },
    {
      "metadata": {
        "id": "32R2pIItjnQr",
        "colab_type": "code",
        "colab": {}
      },
      "cell_type": "code",
      "source": [
        "# Convert to matrix and remove unnamed column:\n",
        "np_C1858558 = C1858558.loc[:, ~C1858558.columns.str.contains('^Unnamed')].as_matrix()\n",
        "\n",
        "np_cui_subset = cui_subset.loc[:, ~cui_subset.columns.str.contains('^Unnamed')].as_matrix()\n",
        "\n",
        "# Select top 10 percent:\n",
        "# Calculates cosine similarities:\n",
        "np_cos_sim = ([np_C1858558.dot(np_cui_subset[i,:])/(LA.norm(np_cui_subset[i,:])) for i in range(np_cui_subset.shape[0])]/LA.norm(np_C1858558))\n",
        "np_cos_sim = np_cos_sim/sum(np_cos_sim)\n",
        "close_CUIs = (abs(np_cos_sim) > np.percentile(abs(np_cos_sim),0)).flatten()\n",
        "np_cui_subset = np_cui_subset[close_CUIs,:]\n",
        "\n",
        "# Create tensorflow constants for RA CUI and the CUI matrix\n",
        "tf_C1858558 = tf.constant(np_C1858558,name='RAcui', dtype=tf.float32)\n",
        "tf_cui_subset = tf.constant(np_cui_subset,name='CUIsubset', dtype=tf.float32)"
      ],
      "execution_count": 0,
      "outputs": []
    },
    {
      "metadata": {
        "id": "PGiwdUiTeSfZ",
        "colab_type": "code",
        "colab": {}
      },
      "cell_type": "code",
      "source": [
        "# Calculates cosine similarities:\n",
        "np_cos_sim = ([np_C1858558.dot(np_cui_subset[i,:])/(LA.norm(np_cui_subset[i,:])) for i in range(np_cui_subset.shape[0])]/LA.norm(np_C1858558))\n",
        "np_cos_sim = np_cos_sim/sum(np_cos_sim)\n",
        "\n",
        "# Create tensorflow constants the cosine similarities\n",
        "tf_cos_sim = tf.constant(np_cos_sim,name='cos_sim', dtype=tf.float32)\n"
      ],
      "execution_count": 0,
      "outputs": []
    },
    {
      "metadata": {
        "id": "CZ4InBNG3okz",
        "colab_type": "code",
        "colab": {}
      },
      "cell_type": "code",
      "source": [
        "# X matrix which contains X_ij, the centered count of CUI j in patient's i notes:\n",
        "### First I filter the non-labeled rows then I filter the CUI's not mentioned in the notes\n",
        "counts = dat_pop.loc[dat_pop['label'].isin(['Y','N'])].loc[:,list(cui_subset.iloc[close_CUIs,0])]\n",
        "### Now I center the counts and convert it to matrix\n",
        "X = counts.as_matrix().transpose()# Not centered anymore since I use log instead of x^2 (counts-counts.mean()).as_matrix().transpose()\n",
        "np_X_poly = np.array([[X[cui,:],np.log(X[cui,:]+1),np.sqrt(X[cui,:])] for cui in range(X.shape[0])])#np.array([[np.ones(X.shape[1]),X[cui,:],np.square(X[cui,:])] for cui in range(X.shape[0])])\n",
        "### Now I convert it to a tensorflow constant:\n",
        "tf_X_poly = tf.constant(np_X_poly,name='CUIcounts', dtype=tf.float32)#,shape=np_X_poly.shape\n",
        "# Patients response::\n",
        "y = dat_pop.loc[dat_pop['label'].isin(['Y','N'])].loc[:,'label'].eq('Y').mul(1).as_matrix()\n"
      ],
      "execution_count": 0,
      "outputs": []
    },
    {
      "metadata": {
        "id": "z8nNY-S53gu_",
        "colab_type": "code",
        "colab": {}
      },
      "cell_type": "code",
      "source": [
        "###\n",
        "# Model Parameters\n",
        "###\n",
        "\n",
        "# Declare batch size\n",
        "batch_size = 40\n",
        "\n",
        "# Matrix Dimensions:\n",
        "CUIs_No, CUIs_dim = np_cui_subset.shape\n",
        "seed = 116687\n",
        "patients_No = counts.shape[0]\n",
        "theta_dim = np_X_poly.shape[1]"
      ],
      "execution_count": 0,
      "outputs": []
    },
    {
      "metadata": {
        "id": "y3fu3Boa1P8B",
        "colab_type": "code",
        "colab": {}
      },
      "cell_type": "code",
      "source": [
        "# Cosine sim. weighted CUI-embedding matrix:\n",
        "Vw = tf.multiply(tf_cui_subset,tf_cos_sim)\n",
        "# Turn it into a 3D tensor for multiplications later:\n",
        "Vw = tf.expand_dims(Vw, axis=0)\n",
        "# Replicate the Weighted word-vec matrix for evey patient:\n",
        "Vws = tf.tile(Vw,[patients_No,1,1])\n",
        "#Vws = tf.tile(Vw,[batch_size,1,1])"
      ],
      "execution_count": 0,
      "outputs": []
    },
    {
      "metadata": {
        "id": "_Hy9Pc10-R40",
        "colab_type": "code",
        "colab": {}
      },
      "cell_type": "code",
      "source": [
        "# Initialize parameters \n",
        "### theta such that f_j(x_ij)=theta0_j+theta1_j*X_ij+theta2_j*(X_ij)^2:\n",
        "theta = tf.Variable(tf.random_normal(shape=[CUIs_No,1,theta_dim]),name='theta')\n",
        "### beta for regression:\n",
        "beta = tf.Variable(tf.random_normal(shape=[CUIs_dim,1]),name='beta')\n",
        "beta0 = tf.Variable(tf.random_normal(shape=[1,1]),name='beta0')\n",
        "# Initialize placeholders\n",
        "z_data = tf.placeholder(shape=[None, CUIs_dim], dtype=tf.float32)\n",
        "y_target = tf.placeholder(shape=[None, 1], dtype=tf.float32)\n",
        "beta_const = tf.placeholder(shape=[CUIs_dim,1], dtype=tf.float32,name='beta_const')\n",
        "beta0_const = tf.placeholder(shape=[1,1], dtype=tf.float32,name='beta0_const')\n"
      ],
      "execution_count": 0,
      "outputs": []
    },
    {
      "metadata": {
        "id": "9OzqjweEJMEc",
        "colab_type": "code",
        "colab": {}
      },
      "cell_type": "code",
      "source": [
        "####\n",
        "# Declare model operations\n",
        "####\n",
        "# Calculate f_j(x)=theta0j+theta1j*x_ij+theta2j*x_ij^2 where j is a CUI\n",
        "f_x = tf.transpose(tf.matmul(theta,tf_X_poly)) # tensor dimensions: (patiens_No,1,CUI_No)\n",
        "# Cosine sim. weighted CUI-embedding matrix:\n",
        "# Patient's feature vectors:\n",
        "tf_z = tf.squeeze(tf.matmul(f_x,Vws))\n",
        "model_output_beta = tf.sigmoid(tf.add(tf.matmul(z_data, beta), beta0))\n",
        "model_output_theta = tf.sigmoid(tf.add(tf.matmul(tf_z, beta_const), beta0_const))\n"
      ],
      "execution_count": 0,
      "outputs": []
    },
    {
      "metadata": {
        "id": "cu0FdhFioGQ_",
        "colab_type": "code",
        "colab": {}
      },
      "cell_type": "code",
      "source": [
        "###\n",
        "# Loss Functions\n",
        "###\n",
        "### Loss functions to optimize over beta: ###\n",
        "\n",
        "# Specify 'Ridge' or 'LASSO'\n",
        "#regression_type = 'LASSO'\n",
        "regression_type = 'Ridge'\n",
        "\n",
        "# Select appropriate loss function based on regression type\n",
        "if regression_type == 'LASSO':\n",
        "\n",
        "  lasso_param = tf.constant(0.9)\n",
        "  heavyside_step = tf.truediv(1., tf.add(1., tf.exp(tf.multiply(-50., tf.subtract(beta, lasso_param)))))\n",
        "  regularization_param = tf.multiply(heavyside_step, 99.)\n",
        "  loss_beta = tf.add(tf.reduce_mean(tf.square(y_target - model_output_beta)), regularization_param)\n",
        "\n",
        "elif regression_type == 'Ridge':\n",
        "# Declare the Ridge loss function\n",
        "# Ridge loss = L2_loss + L2 norm of slope\n",
        "  ridge_param = tf.constant(1.)\n",
        "  ridge_loss = tf.reduce_mean(tf.square(beta))\n",
        "  loss_beta = tf.expand_dims(tf.add(tf.reduce_mean(tf.square(y_target - model_output_beta)), tf.multiply(ridge_param, ridge_loss)), 0)\n",
        "  \n",
        "### Loss functions to optimize over theta:###\n",
        "### Do some kind of regularization with theta:\n",
        "  theta_param = tf.constant(1.)\n",
        "  theta_reg_loss = tf.reduce_mean(tf.square(theta))\n",
        "  loss_theta = tf.expand_dims(tf.add(tf.reduce_mean(tf.square(y_target - model_output_theta)), tf.multiply(theta_param, theta_reg_loss)), 0)"
      ],
      "execution_count": 0,
      "outputs": []
    },
    {
      "metadata": {
        "id": "GSJC070NnvCh",
        "colab_type": "code",
        "colab": {}
      },
      "cell_type": "code",
      "source": [
        "###\n",
        "# Optimizer\n",
        "###\n",
        "\n",
        "# Declare optimizers\n",
        "my_opt_beta = tf.train.GradientDescentOptimizer(1e-1)\n",
        "train_step_beta = my_opt_beta.minimize(loss_beta)\n",
        "\n",
        "#tf.train.AdamOptimizer(1e-4).minimize(cross_entropy)\n",
        "my_opt_theta = tf.train.GradientDescentOptimizer(1e-1)\n",
        "train_step_theta = my_opt_theta.minimize(loss_theta)\n",
        "\n"
      ],
      "execution_count": 0,
      "outputs": []
    },
    {
      "metadata": {
        "id": "mvMjUFTBz49d",
        "colab_type": "code",
        "colab": {
          "base_uri": "https://localhost:8080/",
          "height": 527
        },
        "outputId": "cfb57428-1ecb-4545-b6a8-908d78357940"
      },
      "cell_type": "code",
      "source": [
        "###\n",
        "# Run regression\n",
        "###\n",
        "# make results reproducible\n",
        "np.random.seed(seed)\n",
        "tf.set_random_seed(seed)\n",
        "\n",
        "# Initialize variables\n",
        "init = tf.group(tf.global_variables_initializer(), tf.local_variables_initializer())\n",
        "sess.run(init)\n",
        "np_Z = sess.run(tf_z)\n",
        "# Training loop\n",
        "loss_vec = []\n",
        "for i in range(1500):\n",
        "    rand_index = np.random.choice(np_Z.shape[0], size=batch_size)\n",
        "    rand_z = np_Z[rand_index,:]\n",
        "    rand_y = np.array([y[rand_index]]).transpose()\n",
        "    sess.run(train_step_beta, feed_dict={z_data: rand_z, y_target: rand_y})\n",
        "    ##\n",
        "    np_beta = sess.run(beta)\n",
        "    np_beta0 = sess.run(beta0)\n",
        "    y_pred = expit(rand_z.dot(np_beta)+np_beta0)\n",
        "    sess.run(train_step_theta, feed_dict={beta_const: np_beta, beta0_const: np_beta0, y_target: rand_y})\n",
        "    rand_z = sess.run(tf_z)\n",
        "    ##\n",
        "    temp_loss = sess.run(loss_beta, feed_dict={z_data: rand_z, y_target: rand_y})\n",
        "    #temp_loss = sess.run(loss_theta, feed_dict={beta_const: np_beta, beta0_const: np_beta0, y_target: rand_y})\n",
        "    loss_vec.append(temp_loss[0])\n",
        "    if (i+1)%300==0 or i == 0:\n",
        "      print('Step #' + str(i+1) + ' beta = ' + str(sess.run(beta)[0]) + ' beta0 = ' + str(sess.run(beta0)) + ' theta = ' + str(sess.run(theta[0,0])))\n",
        "      print('Loss = ' + str(temp_loss))\n",
        "      print('AUC = ' + str(metrics.roc_auc_score(rand_y, y_pred)))\n",
        "      print('\\n')\n"
      ],
      "execution_count": 49,
      "outputs": [
        {
          "output_type": "stream",
          "text": [
            "Step #1 beta = [-0.7412476] beta0 = [[0.47241464]] theta = [ 1.2184811 -0.813883   0.0655835]\n",
            "Loss = [1.1536652]\n",
            "AUC = 0.34778892181445176\n",
            "\n",
            "\n",
            "Step #300 beta = [-0.7357184] beta0 = [[-1.1625726]] theta = [ 1.1488328  -0.8022559   0.05272955]\n",
            "Loss = [0.9051965]\n",
            "AUC = 0.8599651038442055\n",
            "\n",
            "\n",
            "Step #600 beta = [-0.6173371] beta0 = [[-1.5854044]] theta = [ 1.1285394  -0.7816573   0.05327776]\n",
            "Loss = [0.7169861]\n",
            "AUC = 0.8600986206436996\n",
            "\n",
            "\n",
            "Step #900 beta = [-0.50676215] beta0 = [[-1.7932833]] theta = [ 1.1069638  -0.7617646   0.05347679]\n",
            "Loss = [0.6187836]\n",
            "AUC = 0.9068309816508207\n",
            "\n",
            "\n",
            "Step #1200 beta = [-0.33377236] beta0 = [[-1.876354]] theta = [ 1.0841409  -0.74256635  0.05333467]\n",
            "Loss = [0.5105902]\n",
            "AUC = 0.9485668276972625\n",
            "\n",
            "\n",
            "Step #1500 beta = [-0.24139516] beta0 = [[-1.9204663]] theta = [ 1.0601759  -0.72420126  0.0526843 ]\n",
            "Loss = [0.45699298]\n",
            "AUC = 0.9139433551198257\n",
            "\n",
            "\n"
          ],
          "name": "stdout"
        }
      ]
    },
    {
      "metadata": {
        "id": "9qyzsptmz5I9",
        "colab_type": "code",
        "colab": {
          "base_uri": "https://localhost:8080/",
          "height": 376
        },
        "outputId": "b1528438-9092-4d0e-beee-156a690f82b1"
      },
      "cell_type": "code",
      "source": [
        "###\n",
        "# Extract regression results\n",
        "###\n",
        "\n",
        "# Plot loss over time\n",
        "plt.plot(loss_vec, 'k-')#[1000:len(loss_vec)]\n",
        "plt.title('regression_type' + ' Loss per Generation')\n",
        "plt.xlabel('Generation')\n",
        "plt.ylabel('Loss')\n",
        "plt.show()"
      ],
      "execution_count": 48,
      "outputs": [
        {
          "output_type": "display_data",
          "data": {
            "image/png": "[encoded data removed]",
            "text/plain": [
              "<matplotlib.figure.Figure at 0x7f3f83253eb8>"
            ]
          },
          "metadata": {
            "tags": []
          }
        }
      ]
    },
    {
      "metadata": {
        "id": "q5_up5TSPPl9",
        "colab_type": "code",
        "colab": {}
      },
      "cell_type": "code",
      "source": [
        ""
      ],
      "execution_count": 0,
      "outputs": []
    }
  ]
}