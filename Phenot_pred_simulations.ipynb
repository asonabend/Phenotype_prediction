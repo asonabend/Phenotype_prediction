{
  "nbformat": 4,
  "nbformat_minor": 0,
  "metadata": {
    "colab": {
      "name": "Phenot. pred. simulations",
      "version": "0.3.2",
      "provenance": [],
      "collapsed_sections": [],
      "include_colab_link": true
    }
  },
  "cells": [
    {
      "cell_type": "markdown",
      "metadata": {
        "id": "view-in-github",
        "colab_type": "text"
      },
      "source": [
        "[View in Colaboratory](https://colab.research.google.com/github/asonabend/Phenotype_prediction/blob/master/Phenot_pred_simulations.ipynb)"
      ]
    },
    {
      "metadata": {
        "id": "HD9M9QXbMILu",
        "colab_type": "code",
        "colab": {}
      },
      "cell_type": "code",
      "source": [
        "\n",
        "# Code to read csv file into colaboratory:\n",
        "!pip install -U -q PyDrive\n",
        "import tensorflow as tf\n",
        "import numpy as np\n",
        "import pandas as pd\n",
        "from numpy import linalg as LA\n",
        "import matplotlib.pyplot as plt\n"
      ],
      "execution_count": 0,
      "outputs": []
    },
    {
      "metadata": {
        "id": "bcprFrqwMpTw",
        "colab_type": "code",
        "colab": {
          "base_uri": "https://localhost:8080/",
          "height": 71
        },
        "outputId": "451f7838-5224-4ef0-90ef-ded7d3e8b24c"
      },
      "cell_type": "code",
      "source": [
        "from pydrive.auth import GoogleAuth\n",
        "from pydrive.drive import GoogleDrive\n",
        "from google.colab import auth\n",
        "from oauth2client.client import GoogleCredentials\n",
        "\n",
        "# 1. Authenticate and create the PyDrive client.\n",
        "auth.authenticate_user()\n",
        "gauth = GoogleAuth()\n",
        "gauth.credentials = GoogleCredentials.get_application_default()\n",
        "drive = GoogleDrive(gauth)\n",
        "\n",
        "#2a. Get the file\n",
        "downloaded = drive.CreateFile({'id':'1fupXX3KJWTbdI7MLPHKbDyEDKAXCzO7a'}) # replace the id with id of file you want to access\n",
        "downloaded.GetContentFile('raprod2.ra.full.csv')  \n",
        "#3a. Read file as panda dataframe\n",
        "dat_pop = pd.read_csv('raprod2.ra.full.csv') \n",
        "\n",
        "#2b. Get the file\n",
        "downloaded = drive.CreateFile({'id':'1Igod8k0utRAqgK4BeEuZqj31JCURQQ5K'}) \n",
        "downloaded.GetContentFile('cui2vec_RAsubset.csv')  \n",
        "#3b. Read file as panda dataframe\n",
        "cui_subset = pd.read_csv('cui2vec_RAsubset.csv') \n",
        "\n",
        "#2c. Get the file\n",
        "downloaded = drive.CreateFile({'id':'1Z8YK2sVwKeA0OsZQV-sMNeFSkAI0zX02'}) \n",
        "downloaded.GetContentFile('C1858558.csv')  \n",
        "#3c. Read file as panda dataframe\n",
        "C1858558 = pd.read_csv('C1858558.csv') \n"
      ],
      "execution_count": 2,
      "outputs": [
        {
          "output_type": "stream",
          "text": [
            "/usr/local/lib/python2.7/dist-packages/IPython/core/interactiveshell.py:2718: DtypeWarning: Columns (2) have mixed types. Specify dtype option on import or set low_memory=False.\n",
            "  interactivity=interactivity, compiler=compiler, result=result)\n"
          ],
          "name": "stderr"
        }
      ]
    },
    {
      "metadata": {
        "id": "GvKZZjX13iz0",
        "colab_type": "code",
        "colab": {}
      },
      "cell_type": "code",
      "source": [
        "# Convert to matrix and remove unnamed column:\n",
        "np_C0003873 = cui_subset.loc[cui_subset[list(cui_subset)[0]] == 'C0003873'].values\n",
        "np_C0003873 = np.delete(np_C0003873,0,1)#.flatten()\n",
        "\n",
        "np_cui_subset = cui_subset.loc[:, ~cui_subset.columns.str.contains('^Unnamed')].as_matrix()\n",
        "\n",
        "# Select top 10 percent:\n",
        "# Calculates cosine similarities:\n",
        "np_cos_sim = ([np_C0003873.dot(np_cui_subset[i,:])/(LA.norm(np_cui_subset[i,:])) for i in range(np_cui_subset.shape[0])]/LA.norm(np_C0003873))\n",
        "np_cos_sim = np_cos_sim/sum(np_cos_sim)\n",
        "close_CUIs = (abs(np_cos_sim) > np.percentile(abs(np_cos_sim),97.5)).flatten()\n",
        "np_cui_subset = np_cui_subset[close_CUIs,:]\n",
        "\n",
        "# Create tensorflow constants for RA CUI \n",
        "#tf_C1858558 = tf.constant(np_C1858558,name='RAcui', dtype=tf.float32)\n",
        "\n",
        "\n",
        "# Calculates cosine similarities:\n",
        "np_cos_sim = ([np_C0003873.dot(np_cui_subset[i,:])/(LA.norm(np_cui_subset[i,:])) for i in range(np_cui_subset.shape[0])]/LA.norm(np_C0003873))\n",
        "np_cos_sim = np_cos_sim/sum(np_cos_sim)\n"
      ],
      "execution_count": 0,
      "outputs": []
    },
    {
      "metadata": {
        "id": "A7Q-BcUs-0k2",
        "colab_type": "code",
        "colab": {
          "base_uri": "https://localhost:8080/",
          "height": 119
        },
        "outputId": "361ca0b1-9aee-4e87-d3e3-d6e0d85d6ae1"
      },
      "cell_type": "code",
      "source": [
        "patients_No = 500\n",
        "CUIs_No = len(np_cos_sim)\n",
        "np.random.seed(116687)\n",
        "# F and power law distribution mix to keep the count matrix similar to that of the RA real data\n",
        "scaling = np.random.f(2, 10, patients_No)*100\n",
        "sim_counts = np.array([np.round((np.random.power(.05, CUI_No)*scaling[p])) for p in range(patients_No)])\n",
        "# Weights for each CUI\n",
        "vec_weights = np.random.normal(0,10,size=CUIs_No)\n",
        "\n",
        "raw_vals = \n"
      ],
      "execution_count": 178,
      "outputs": [
        {
          "output_type": "execute_result",
          "data": {
            "text/plain": [
              "array([ -6.31353193, -10.08878291,  -7.07265559,  -5.50799929,\n",
              "         2.81785865, -18.57147932,   8.09311821,   0.6915968 ,\n",
              "        -8.50196492,  -6.38800936,   4.81949218,  -0.36163567,\n",
              "        -2.39281501,  -1.92904968,   3.55377347,  -8.97648407,\n",
              "       -14.28924159,   2.32390327,   4.30949835,  -2.75556696,\n",
              "       -16.33109015])"
            ]
          },
          "metadata": {
            "tags": []
          },
          "execution_count": 178
        }
      ]
    },
    {
      "metadata": {
        "id": "9Po28-Df3iwi",
        "colab_type": "code",
        "colab": {
          "base_uri": "https://localhost:8080/",
          "height": 51
        },
        "outputId": "6e6f40d8-bfce-44b5-d8f1-a13a3e4ee8f1"
      },
      "cell_type": "code",
      "source": [
        ""
      ],
      "execution_count": 159,
      "outputs": [
        {
          "output_type": "execute_result",
          "data": {
            "text/plain": [
              "array([15, 21, 21, 21,  4, 23, 28,  7, 20, 24,  2, 17,  4, 11, 17, 21, 29,\n",
              "       29,  3, 20, 28])"
            ]
          },
          "metadata": {
            "tags": []
          },
          "execution_count": 159
        }
      ]
    },
    {
      "metadata": {
        "id": "dBgNAEvE3ig9",
        "colab_type": "code",
        "colab": {}
      },
      "cell_type": "code",
      "source": [
        ""
      ],
      "execution_count": 0,
      "outputs": []
    },
    {
      "metadata": {
        "id": "agm49jge3idp",
        "colab_type": "code",
        "colab": {}
      },
      "cell_type": "code",
      "source": [
        ""
      ],
      "execution_count": 0,
      "outputs": []
    },
    {
      "metadata": {
        "id": "79m8KWGr3iah",
        "colab_type": "code",
        "colab": {}
      },
      "cell_type": "code",
      "source": [
        ""
      ],
      "execution_count": 0,
      "outputs": []
    },
    {
      "metadata": {
        "id": "lvcGAWZG3iW-",
        "colab_type": "code",
        "colab": {}
      },
      "cell_type": "code",
      "source": [
        ""
      ],
      "execution_count": 0,
      "outputs": []
    },
    {
      "metadata": {
        "id": "fUzn1I133iT0",
        "colab_type": "code",
        "colab": {}
      },
      "cell_type": "code",
      "source": [
        ""
      ],
      "execution_count": 0,
      "outputs": []
    },
    {
      "metadata": {
        "id": "Su1lCLKb3iQZ",
        "colab_type": "code",
        "colab": {}
      },
      "cell_type": "code",
      "source": [
        ""
      ],
      "execution_count": 0,
      "outputs": []
    },
    {
      "metadata": {
        "id": "Ljox1pK73iNM",
        "colab_type": "code",
        "colab": {}
      },
      "cell_type": "code",
      "source": [
        ""
      ],
      "execution_count": 0,
      "outputs": []
    },
    {
      "metadata": {
        "id": "uHmlDcpd3iJo",
        "colab_type": "code",
        "colab": {}
      },
      "cell_type": "code",
      "source": [
        ""
      ],
      "execution_count": 0,
      "outputs": []
    },
    {
      "metadata": {
        "id": "_4bOCo1u3iGu",
        "colab_type": "code",
        "colab": {}
      },
      "cell_type": "code",
      "source": [
        ""
      ],
      "execution_count": 0,
      "outputs": []
    },
    {
      "metadata": {
        "id": "NM_AEDBP3iEu",
        "colab_type": "code",
        "colab": {}
      },
      "cell_type": "code",
      "source": [
        ""
      ],
      "execution_count": 0,
      "outputs": []
    },
    {
      "metadata": {
        "id": "LrlDZb5v3iDF",
        "colab_type": "code",
        "colab": {}
      },
      "cell_type": "code",
      "source": [
        ""
      ],
      "execution_count": 0,
      "outputs": []
    },
    {
      "metadata": {
        "id": "iPFk7V1-3h9r",
        "colab_type": "code",
        "colab": {}
      },
      "cell_type": "code",
      "source": [
        ""
      ],
      "execution_count": 0,
      "outputs": []
    },
    {
      "metadata": {
        "id": "c7Ycp2h63h5R",
        "colab_type": "code",
        "colab": {}
      },
      "cell_type": "code",
      "source": [
        ""
      ],
      "execution_count": 0,
      "outputs": []
    },
    {
      "metadata": {
        "id": "HGXtdd263hw9",
        "colab_type": "code",
        "colab": {}
      },
      "cell_type": "code",
      "source": [
        ""
      ],
      "execution_count": 0,
      "outputs": []
    },
    {
      "metadata": {
        "id": "60JNkqela7CD",
        "colab_type": "code",
        "colab": {}
      },
      "cell_type": "code",
      "source": [
        "# Clear out old graph\n",
        "tf.reset_default_graph()\n",
        "\n",
        "# Create graph\n",
        "sess = tf.Session()\n"
      ],
      "execution_count": 0,
      "outputs": []
    },
    {
      "metadata": {
        "id": "32R2pIItjnQr",
        "colab_type": "code",
        "colab": {}
      },
      "cell_type": "code",
      "source": [
        "# Convert to matrix and remove unnamed column:\n",
        "np_C1858558 = C1858558.loc[:, ~C1858558.columns.str.contains('^Unnamed')].as_matrix()\n",
        "np_cui_subset = cui_subset.loc[:, ~cui_subset.columns.str.contains('^Unnamed')].as_matrix()\n",
        "# Create tensorflow constants for RA CUI and the CUI matrix\n",
        "\n",
        "tf_C1858558 = tf.constant(np_C1858558,name='RAcui', dtype=tf.float32)\n",
        "tf_cui_subset = tf.constant(np_cui_subset,name='CUIsubset', dtype=tf.float32)"
      ],
      "execution_count": 0,
      "outputs": []
    },
    {
      "metadata": {
        "id": "216cjtrE26Vu",
        "colab_type": "code",
        "colab": {
          "base_uri": "https://localhost:8080/",
          "height": 34
        },
        "outputId": "3372d483-501a-41f6-a8c6-3bcb4cf6f5ed"
      },
      "cell_type": "code",
      "source": [
        "np_C1858558.shape"
      ],
      "execution_count": 6,
      "outputs": [
        {
          "output_type": "execute_result",
          "data": {
            "text/plain": [
              "(1, 500)"
            ]
          },
          "metadata": {
            "tags": []
          },
          "execution_count": 6
        }
      ]
    },
    {
      "metadata": {
        "id": "PGiwdUiTeSfZ",
        "colab_type": "code",
        "colab": {}
      },
      "cell_type": "code",
      "source": [
        "# Calculates cosine similarities:\n",
        "np_cos_sim = [np_C1858558.dot(np_cui_subset[i,:])/(LA.norm(np_cui_subset[i,:])) for i in range(np_cui_subset.shape[0])]/LA.norm(np_C1858558)\n",
        "# Create tensorflow constants the cosine similarities\n",
        "tf_cos_sim = tf.constant(np_cos_sim,name='cos_sim', dtype=tf.float32)\n"
      ],
      "execution_count": 0,
      "outputs": []
    },
    {
      "metadata": {
        "id": "CZ4InBNG3okz",
        "colab_type": "code",
        "colab": {}
      },
      "cell_type": "code",
      "source": [
        "# X matrix which contains X_ij, the centered count of CUI j in patient's i notes:\n",
        "### First I filter the non-labeled rows then I filter the CUI's not mentioned in the notes\n",
        "counts = dat_pop.loc[dat_pop['label'].isin(['Y','N'])].loc[:,list(cui_subset.iloc[:,0])]\n",
        "### Now I center the counts and convert it to matrix\n",
        "X = (counts-counts.mean()).as_matrix().transpose()\n",
        "np_X_poly = np.array([[np.ones(X.shape[1]),X[cui,:],np.square(X[cui,:])] for cui in range(X.shape[0])])\n",
        "### Now I convert it to a tensorflow constant:\n",
        "tf_X_poly = tf.constant(np_X_poly,name='CUIcounts', dtype=tf.float32)#,shape=np_X_poly.shape\n",
        "# Patients response::\n",
        "y = dat_pop.loc[dat_pop['label'].isin(['Y','N'])].loc[:,'label'].eq('Y').mul(1).as_matrix()\n"
      ],
      "execution_count": 0,
      "outputs": []
    },
    {
      "metadata": {
        "id": "z8nNY-S53gu_",
        "colab_type": "code",
        "colab": {}
      },
      "cell_type": "code",
      "source": [
        "###\n",
        "# Model Parameters\n",
        "###\n",
        "\n",
        "# Declare batch size\n",
        "batch_size = 40\n",
        "\n",
        "# Matrix Dimensions:\n",
        "CUIs_No, CUIs_dim = np_cui_subset.shape\n",
        "seed = 116687\n",
        "patients_No = counts.shape[0]\n",
        "theta_dim = 3\n"
      ],
      "execution_count": 0,
      "outputs": []
    },
    {
      "metadata": {
        "id": "y3fu3Boa1P8B",
        "colab_type": "code",
        "colab": {}
      },
      "cell_type": "code",
      "source": [
        "# Cosine sim. weighted CUI-embedding matrix:\n",
        "Vw = tf.multiply(tf_cui_subset,tf_cos_sim)\n",
        "# Turn it into a 3D tensor for multiplications later:\n",
        "Vw = tf.expand_dims(Vw, axis=0)\n",
        "# Replicate the Weighted word-vec matrix for evey patient:\n",
        "Vws = tf.tile(Vw,[patients_No,1,1])\n"
      ],
      "execution_count": 0,
      "outputs": []
    },
    {
      "metadata": {
        "id": "_Hy9Pc10-R40",
        "colab_type": "code",
        "colab": {}
      },
      "cell_type": "code",
      "source": [
        "# Initialize parameters \n",
        "### theta such that f_j(x_ij)=theta0_j+theta1_j*X_ij+theta2_j*(X_ij)^2:\n",
        "theta = tf.Variable(tf.random_normal(shape=[CUIs_No,1,theta_dim]),name='theta')\n",
        "### beta for regression:\n",
        "#beta = tf.Variable(np.ones((CUIs_dim,1))*1.0,name='beta', dtype=tf.float32)\n",
        "#beta0 = tf.Variable(np.ones((1,1))*1.0,name='beta0', dtype=tf.float32)\n",
        "beta = tf.Variable(tf.random_normal(shape=[CUIs_dim,1]),name='beta')\n",
        "beta0 = tf.Variable(tf.random_normal(shape=[1,1]),name='beta0')\n",
        "# Initialize placeholders\n",
        "z_data = tf.placeholder(shape=[None, CUIs_dim], dtype=tf.float32)\n",
        "y_target = tf.placeholder(shape=[None, 1], dtype=tf.float32)\n",
        "# make results reproducible\n",
        "seed = 13\n",
        "np.random.seed(seed)\n",
        "tf.set_random_seed(seed)"
      ],
      "execution_count": 0,
      "outputs": []
    },
    {
      "metadata": {
        "id": "9OzqjweEJMEc",
        "colab_type": "code",
        "colab": {}
      },
      "cell_type": "code",
      "source": [
        "####\n",
        "# Declare model operations\n",
        "####\n",
        "# Calculate f_j(x)=theta0j+theta1j*x_ij+theta2j*x_ij^2 where j is a CUI\n",
        "f_x = tf.transpose(tf.matmul(theta,tf_X_poly)) # tensor dimensions: (patiens_No,1,CUI_No)\n",
        "# Cosine sim. weighted CUI-embedding matrix:\n",
        "# Patient's feature vectors:\n",
        "tf_Z = tf.squeeze(tf.matmul(f_x,Vws))\n",
        "model_output = tf.add(tf.matmul(z_data, beta), beta0)\n"
      ],
      "execution_count": 0,
      "outputs": []
    },
    {
      "metadata": {
        "id": "cu0FdhFioGQ_",
        "colab_type": "code",
        "colab": {}
      },
      "cell_type": "code",
      "source": [
        "###\n",
        "# Loss Functions\n",
        "###\n",
        "### Loss functions to optimize over beta: ###\n",
        "\n",
        "# Specify 'Ridge' or 'LASSO'\n",
        "#regression_type = 'LASSO'\n",
        "regression_type = 'Ridge'\n",
        "\n",
        "# Select appropriate loss function based on regression type\n",
        "if regression_type == 'LASSO':\n",
        "\n",
        "  lasso_param = tf.constant(0.9)\n",
        "  heavyside_step = tf.truediv(1., tf.add(1., tf.exp(tf.multiply(-50., tf.subtract(beta, lasso_param)))))\n",
        "  regularization_param = tf.multiply(heavyside_step, 99.)\n",
        "  loss = tf.add(tf.reduce_mean(tf.square(y_target - model_output)), regularization_param)\n",
        "\n",
        "elif regression_type == 'Ridge':\n",
        "# Declare the Ridge loss function\n",
        "# Ridge loss = L2_loss + L2 norm of slope\n",
        "  ridge_param = tf.constant(1.)\n",
        "  ridge_loss = tf.reduce_mean(tf.square(beta))\n",
        "  loss = tf.expand_dims(tf.add(tf.reduce_mean(tf.square(y_target - model_output)), tf.multiply(ridge_param, ridge_loss)), 0)\n",
        "  \n",
        "### Loss functions to optimize over theta:###\n",
        "\n",
        "tf.reduce_mean(tf.square(y_target - model_output))\n"
      ],
      "execution_count": 0,
      "outputs": []
    },
    {
      "metadata": {
        "id": "GSJC070NnvCh",
        "colab_type": "code",
        "colab": {}
      },
      "cell_type": "code",
      "source": [
        "###\n",
        "# Optimizer\n",
        "###\n",
        "\n",
        "# Declare optimizer\n",
        "my_opt = tf.train.GradientDescentOptimizer(1e-12)\n",
        "train_step = my_opt.minimize(loss)\n"
      ],
      "execution_count": 0,
      "outputs": []
    },
    {
      "metadata": {
        "id": "mvMjUFTBz49d",
        "colab_type": "code",
        "colab": {
          "base_uri": "https://localhost:8080/",
          "height": 1037
        },
        "outputId": "2c8ade90-a4c0-4bec-b176-e2ef8ff05638"
      },
      "cell_type": "code",
      "source": [
        "###\n",
        "# Run regression\n",
        "###\n",
        "\n",
        "# Initialize variables\n",
        "init = tf.global_variables_initializer()\n",
        "sess.run(init)\n",
        "np_Z = sess.run(tf_Z)\n",
        "# Training loop\n",
        "loss_vec = []\n",
        "for i in range(15000):\n",
        "    rand_index = np.random.choice(np_Z.shape[0], size=batch_size)\n",
        "    rand_z = np_Z[rand_index,:]\n",
        "    rand_y = np.array([y[rand_index]]).transpose()\n",
        "    sess.run(train_step, feed_dict={z_data: rand_z, y_target: rand_y})\n",
        "    temp_loss = sess.run(loss, feed_dict={z_data: rand_z, y_target: rand_y})\n",
        "    loss_vec.append(temp_loss[0])\n",
        "    if (i+1)%1000==0:\n",
        "      print('Step #' + str(i+1) + ' beta = ' + str(sess.run(beta)[0]) + ' beta0 = ' + str(sess.run(beta0)))\n",
        "      print('Loss = ' + str(temp_loss))\n",
        "      print('\\n')\n"
      ],
      "execution_count": 0,
      "outputs": [
        {
          "output_type": "stream",
          "text": [
            "Step #1000 beta = [1.069153] beta0 = [[-0.8249107]]\n",
            "Loss = [2.0655048e+08]\n",
            "\n",
            "\n",
            "Step #2000 beta = [1.0058293] beta0 = [[-0.8249107]]\n",
            "Loss = [2.4625774e+08]\n",
            "\n",
            "\n",
            "Step #3000 beta = [0.96573514] beta0 = [[-0.8249107]]\n",
            "Loss = [2.5148818e+08]\n",
            "\n",
            "\n",
            "Step #4000 beta = [0.91954064] beta0 = [[-0.8249107]]\n",
            "Loss = [75778370.]\n",
            "\n",
            "\n",
            "Step #5000 beta = [0.8857983] beta0 = [[-0.8249107]]\n",
            "Loss = [73210750.]\n",
            "\n",
            "\n",
            "Step #6000 beta = [0.84855604] beta0 = [[-0.8249107]]\n",
            "Loss = [1.8207262e+08]\n",
            "\n",
            "\n",
            "Step #7000 beta = [0.8198247] beta0 = [[-0.8249107]]\n",
            "Loss = [88825320.]\n",
            "\n",
            "\n",
            "Step #8000 beta = [0.79367167] beta0 = [[-0.8249107]]\n",
            "Loss = [1.8971909e+08]\n",
            "\n",
            "\n",
            "Step #9000 beta = [0.76947993] beta0 = [[-0.8249107]]\n",
            "Loss = [18283800.]\n",
            "\n",
            "\n",
            "Step #10000 beta = [0.75353634] beta0 = [[-0.8249107]]\n",
            "Loss = [51242772.]\n",
            "\n",
            "\n",
            "Step #11000 beta = [0.730357] beta0 = [[-0.8249107]]\n",
            "Loss = [1.5020757e+08]\n",
            "\n",
            "\n",
            "Step #12000 beta = [0.7128799] beta0 = [[-0.8249107]]\n",
            "Loss = [2.5352653e+08]\n",
            "\n",
            "\n",
            "Step #13000 beta = [0.6930878] beta0 = [[-0.8249107]]\n",
            "Loss = [15326118.]\n",
            "\n",
            "\n",
            "Step #14000 beta = [0.67659324] beta0 = [[-0.8249107]]\n",
            "Loss = [1.2109201e+08]\n",
            "\n",
            "\n",
            "Step #15000 beta = [0.6605238] beta0 = [[-0.8249107]]\n",
            "Loss = [41624790.]\n",
            "\n",
            "\n"
          ],
          "name": "stdout"
        }
      ]
    },
    {
      "metadata": {
        "id": "9qyzsptmz5I9",
        "colab_type": "code",
        "colab": {
          "base_uri": "https://localhost:8080/",
          "height": 376
        },
        "outputId": "02d56778-24f9-4758-ef87-77edb00614ba"
      },
      "cell_type": "code",
      "source": [
        "###\n",
        "# Extract regression results\n",
        "###\n",
        "\n",
        "# Plot loss over time\n",
        "plt.plot(loss_vec, 'k-')#[2000:len(loss_vec)]\n",
        "plt.title('regression_type' + ' Loss per Generation')\n",
        "plt.xlabel('Generation')\n",
        "plt.ylabel('Loss')\n",
        "plt.show()"
      ],
      "execution_count": 0,
      "outputs": [
        {
          "output_type": "display_data",
          "data": {
            "image/png": "[encoded data removed]",
            "text/plain": [
              "<matplotlib.figure.Figure at 0x7f74aa1742d0>"
            ]
          },
          "metadata": {
            "tags": []
          }
        }
      ]
    },
    {
      "metadata": {
        "id": "GMTBXb_56sCb",
        "colab_type": "code",
        "colab": {}
      },
      "cell_type": "code",
      "source": [
        "# Plot loss over time\n",
        "plt.plot(b[0, 'k-')\n",
        "plt.title('regression_type' + ' Loss per Generation')\n",
        "plt.xlabel('Generation')\n",
        "plt.ylabel('Loss')\n",
        "plt.show()"
      ],
      "execution_count": 0,
      "outputs": []
    },
    {
      "metadata": {
        "id": "isdKeVoEj1Yj",
        "colab_type": "code",
        "colab": {
          "base_uri": "https://localhost:8080/",
          "height": 391
        },
        "outputId": "142f6ea9-cfb5-459e-ea32-38a322d1b5b6"
      },
      "cell_type": "code",
      "source": [
        "###\n",
        "# Run regression\n",
        "###\n",
        "\n",
        "# Initialize variables\n",
        "init = tf.global_variables_initializer()\n",
        "sess.run(init)\n",
        "np_Z = sess.run(tf_Z)\n",
        "print(sess.run(beta)[0])\n",
        "print(sess.run(beta0))\n",
        "# Training loop\n",
        "loss_vec = []\n",
        "for i in range(1500):\n",
        "    rand_index = np.random.choice(np_Z.shape[0], size=batch_size)\n",
        "    rand_z = np_Z[rand_index,:]\n",
        "    rand_y = np.array([y[rand_index]]).transpose()\n",
        "    sess.run(train_step, feed_dict={z_data: rand_z, y_target: rand_y})\n",
        "    temp_loss = sess.run(loss, feed_dict={z_data: rand_z, y_target: rand_y})\n",
        "    loss_vec.append(temp_loss[0])\n",
        "    if (i+1)%300==0:\n",
        "        print('Step #' + str(i+1) + ' beta = ' + str(sess.run(beta)[0]) + ' beta0 = ' + str(sess.run(beta0)))\n",
        "        print('Loss = ' + str(temp_loss))\n",
        "        print('\\n')\n"
      ],
      "execution_count": 0,
      "outputs": [
        {
          "output_type": "stream",
          "text": [
            "[0.02085825]\n",
            "[[1.8637991]]\n",
            "Step #300 beta = [nan] beta0 = [[nan]]\n",
            "Loss = [nan]\n",
            "\n",
            "\n",
            "Step #600 beta = [nan] beta0 = [[nan]]\n",
            "Loss = [nan]\n",
            "\n",
            "\n",
            "Step #900 beta = [nan] beta0 = [[nan]]\n",
            "Loss = [nan]\n",
            "\n",
            "\n",
            "Step #1200 beta = [nan] beta0 = [[nan]]\n",
            "Loss = [nan]\n",
            "\n",
            "\n",
            "Step #1500 beta = [nan] beta0 = [[nan]]\n",
            "Loss = [nan]\n",
            "\n",
            "\n"
          ],
          "name": "stdout"
        }
      ]
    },
    {
      "metadata": {
        "id": "E59SiEo5p1uY",
        "colab_type": "code",
        "colab": {}
      },
      "cell_type": "code",
      "source": [
        "\n"
      ],
      "execution_count": 0,
      "outputs": []
    },
    {
      "metadata": {
        "id": "VeOT5xpBp1zd",
        "colab_type": "code",
        "colab": {
          "base_uri": "https://localhost:8080/",
          "height": 34
        },
        "outputId": "4790ef4f-0bf7-4195-f39c-31f59633d4d6"
      },
      "cell_type": "code",
      "source": [
        ""
      ],
      "execution_count": 0,
      "outputs": [
        {
          "output_type": "execute_result",
          "data": {
            "text/plain": [
              "numpy.ndarray"
            ]
          },
          "metadata": {
            "tags": []
          },
          "execution_count": 197
        }
      ]
    },
    {
      "metadata": {
        "id": "ypy8_CWPp134",
        "colab_type": "code",
        "colab": {}
      },
      "cell_type": "code",
      "source": [
        ""
      ],
      "execution_count": 0,
      "outputs": []
    },
    {
      "metadata": {
        "id": "810b0NT_j1gi",
        "colab_type": "code",
        "colab": {}
      },
      "cell_type": "code",
      "source": [
        "###\n",
        "# Load iris data\n",
        "###\n",
        "\n",
        "# iris.data = [(Sepal Length, Sepal Width, Petal Length, Petal Width)]\n",
        "iris = datasets.load_iris()\n",
        "x_vals = np.array([x[3] for x in iris.data])\n",
        "y_vals = np.array([y[0] for y in iris.data])\n",
        "\n",
        "###\n",
        "# Model Parameters\n",
        "###\n",
        "\n",
        "# Declare batch size\n",
        "batch_size = 50\n",
        "\n",
        "# Initialize placeholders\n",
        "x_data = tf.placeholder(shape=[None, 1], dtype=tf.float32)\n",
        "y_target = tf.placeholder(shape=[None, 1], dtype=tf.float32)\n",
        "\n",
        "# make results reproducible\n",
        "seed = 13\n",
        "np.random.seed(seed)\n",
        "tf.set_random_seed(seed)\n",
        "\n",
        "# Create variables for linear regression\n",
        "A = tf.Variable(tf.random_normal(shape=[1,1]))\n",
        "b = tf.Variable(tf.random_normal(shape=[1,1]))\n",
        "\n",
        "# Declare model operations\n",
        "model_output = tf.add(tf.matmul(x_data, A), b)\n",
        "\n",
        "###\n",
        "# Loss Functions\n",
        "###\n",
        "\n",
        "# Select appropriate loss function based on regression type\n",
        "\n",
        "if regression_type == 'LASSO':\n",
        "    # Declare Lasso loss function\n",
        "    # Lasso Loss = L2_Loss + heavyside_step,\n",
        "    # Where heavyside_step ~ 0 if A < constant, otherwise ~ 99\n",
        "    lasso_param = tf.constant(0.9)\n",
        "    heavyside_step = tf.truediv(1., tf.add(1., tf.exp(tf.multiply(-50., tf.subtract(A, lasso_param)))))\n",
        "    regularization_param = tf.multiply(heavyside_step, 99.)\n",
        "    loss = tf.add(tf.reduce_mean(tf.square(y_target - model_output)), regularization_param)\n",
        "\n",
        "elif regression_type == 'Ridge':\n",
        "    # Declare the Ridge loss function\n",
        "    # Ridge loss = L2_loss + L2 norm of slope\n",
        "    ridge_param = tf.constant(1.)\n",
        "    ridge_loss = tf.reduce_mean(tf.square(A))\n",
        "    loss = tf.expand_dims(tf.add(tf.reduce_mean(tf.square(y_target - model_output)), tf.multiply(ridge_param, ridge_loss)), 0)\n",
        "    \n",
        "else:\n",
        "    print('Invalid regression_type parameter value',file=sys.stderr)\n",
        "\n",
        "\n",
        "###\n",
        "# Optimizer\n",
        "###\n",
        "\n",
        "# Declare optimizer\n",
        "my_opt = tf.train.GradientDescentOptimizer(0.001)\n",
        "train_step = my_opt.minimize(loss)\n",
        "\n",
        "###\n",
        "# Run regression\n",
        "###\n",
        "\n",
        "# Initialize variables\n",
        "init = tf.global_variables_initializer()\n",
        "sess.run(init)\n",
        "\n",
        "# Training loop\n",
        "loss_vec = []\n",
        "for i in range(1500):\n",
        "    rand_index = np.random.choice(len(x_vals), size=batch_size)\n",
        "    rand_x = np.transpose([x_vals[rand_index]])\n",
        "    rand_y = np.transpose([y_vals[rand_index]])\n",
        "    sess.run(train_step, feed_dict={x_data: rand_x, y_target: rand_y})\n",
        "    temp_loss = sess.run(loss, feed_dict={x_data: rand_x, y_target: rand_y})\n",
        "    loss_vec.append(temp_loss[0])\n",
        "    if (i+1)%300==0:\n",
        "        print('Step #' + str(i+1) + ' A = ' + str(sess.run(A)) + ' b = ' + str(sess.run(b)))\n",
        "        print('Loss = ' + str(temp_loss))\n",
        "        print('\\n')\n",
        "\n",
        "###\n",
        "# Extract regression results\n",
        "###\n",
        "\n",
        "# Get the optimal coefficients\n",
        "[slope] = sess.run(A)\n",
        "[y_intercept] = sess.run(b)\n",
        "\n",
        "# Get best fit line\n",
        "best_fit = []\n",
        "for i in x_vals:\n",
        "  best_fit.append(slope*i+y_intercept)\n",
        "\n"
      ],
      "execution_count": 0,
      "outputs": []
    },
    {
      "metadata": {
        "id": "q7eJQQ-7j1oA",
        "colab_type": "code",
        "colab": {}
      },
      "cell_type": "code",
      "source": [
        ""
      ],
      "execution_count": 0,
      "outputs": []
    },
    {
      "metadata": {
        "id": "m0op1PAhB9XQ",
        "colab_type": "code",
        "colab": {
          "base_uri": "https://localhost:8080/",
          "height": 198
        },
        "outputId": "23d8a75f-ab7c-4318-f22f-371b4d773e32"
      },
      "cell_type": "code",
      "source": [
        "# Ridge regression:\n",
        "### Declare model operations\n",
        "reg_output = tf.add(tf.matmul(x_data, beta), beta0)\n",
        "### Declare the Ridge loss function\n",
        "# Ridge loss = L2_loss + L2 norm of slope\n",
        "ridge_param = tf.constant(1.)\n",
        "ridge_loss = tf.reduce_mean(tf.square(beta))\n",
        "\n",
        "\n",
        "loss = tf.expand_dims(tf.add(tf.reduce_mean(tf.square(y_target - model_output)), tf.multiply(ridge_param, ridge_loss)), 0)"
      ],
      "execution_count": 0,
      "outputs": [
        {
          "output_type": "error",
          "ename": "NameError",
          "evalue": "ignored",
          "traceback": [
            "\u001b[0;31m\u001b[0m",
            "\u001b[0;31mNameError\u001b[0mTraceback (most recent call last)",
            "\u001b[0;32m<ipython-input-12-4bd99e75b806>\u001b[0m in \u001b[0;36m<module>\u001b[0;34m()\u001b[0m\n\u001b[1;32m      6\u001b[0m \u001b[0;34m\u001b[0m\u001b[0m\n\u001b[1;32m      7\u001b[0m \u001b[0;34m\u001b[0m\u001b[0m\n\u001b[0;32m----> 8\u001b[0;31m \u001b[0mloss\u001b[0m \u001b[0;34m=\u001b[0m \u001b[0mtf\u001b[0m\u001b[0;34m.\u001b[0m\u001b[0mexpand_dims\u001b[0m\u001b[0;34m(\u001b[0m\u001b[0mtf\u001b[0m\u001b[0;34m.\u001b[0m\u001b[0madd\u001b[0m\u001b[0;34m(\u001b[0m\u001b[0mtf\u001b[0m\u001b[0;34m.\u001b[0m\u001b[0mreduce_mean\u001b[0m\u001b[0;34m(\u001b[0m\u001b[0mtf\u001b[0m\u001b[0;34m.\u001b[0m\u001b[0msquare\u001b[0m\u001b[0;34m(\u001b[0m\u001b[0my_target\u001b[0m \u001b[0;34m-\u001b[0m \u001b[0mmodel_output\u001b[0m\u001b[0;34m)\u001b[0m\u001b[0;34m)\u001b[0m\u001b[0;34m,\u001b[0m \u001b[0mtf\u001b[0m\u001b[0;34m.\u001b[0m\u001b[0mmultiply\u001b[0m\u001b[0;34m(\u001b[0m\u001b[0mridge_param\u001b[0m\u001b[0;34m,\u001b[0m \u001b[0mridge_loss\u001b[0m\u001b[0;34m)\u001b[0m\u001b[0;34m)\u001b[0m\u001b[0;34m,\u001b[0m \u001b[0;36m0\u001b[0m\u001b[0;34m)\u001b[0m\u001b[0;34m\u001b[0m\u001b[0m\n\u001b[0m",
            "\u001b[0;31mNameError\u001b[0m: name 'model_output' is not defined"
          ]
        }
      ]
    },
    {
      "metadata": {
        "id": "LoZkIKCyCaS1",
        "colab_type": "code",
        "colab": {}
      },
      "cell_type": "code",
      "source": [
        ""
      ],
      "execution_count": 0,
      "outputs": []
    },
    {
      "metadata": {
        "id": "apcFd3RqCaiG",
        "colab_type": "code",
        "colab": {}
      },
      "cell_type": "code",
      "source": [
        ""
      ],
      "execution_count": 0,
      "outputs": []
    },
    {
      "metadata": {
        "id": "uPnKrg9oN6-N",
        "colab_type": "code",
        "colab": {}
      },
      "cell_type": "code",
      "source": [
        "x = tf.Variable(np.array([2,2]), name='x', dtype=tf.float32)\n",
        "log_x = tf.log(x)\n",
        "log_x_squared = tf.square(log_x)\n"
      ],
      "execution_count": 0,
      "outputs": []
    },
    {
      "metadata": {
        "id": "DWoCXbyYjMDe",
        "colab_type": "code",
        "colab": {}
      },
      "cell_type": "code",
      "source": [
        ""
      ],
      "execution_count": 0,
      "outputs": []
    },
    {
      "metadata": {
        "id": "XgSmxyP1EdUr",
        "colab_type": "code",
        "colab": {}
      },
      "cell_type": "code",
      "source": [
        ""
      ],
      "execution_count": 0,
      "outputs": []
    },
    {
      "metadata": {
        "id": "rhAVP9HiHiE_",
        "colab_type": "code",
        "colab": {}
      },
      "cell_type": "code",
      "source": [
        ""
      ],
      "execution_count": 0,
      "outputs": []
    },
    {
      "metadata": {
        "id": "tIgsMVoKHiIP",
        "colab_type": "code",
        "colab": {}
      },
      "cell_type": "code",
      "source": [
        ""
      ],
      "execution_count": 0,
      "outputs": []
    },
    {
      "metadata": {
        "id": "lG__gkRKHiLT",
        "colab_type": "code",
        "colab": {}
      },
      "cell_type": "code",
      "source": [
        ""
      ],
      "execution_count": 0,
      "outputs": []
    }
  ]
}